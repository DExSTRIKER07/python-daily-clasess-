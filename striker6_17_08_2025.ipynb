{
  "cells": [
    {
      "cell_type": "code",
      "execution_count": null,
      "metadata": {
        "colab": {
          "base_uri": "https://localhost:8080/"
        },
        "id": "nyhgvSb10VOV",
        "outputId": "803e5972-5e73-40b1-d0d3-ce36ad7da5f2"
      },
      "outputs": [
        {
          "name": "stdout",
          "output_type": "stream",
          "text": [
            "c is a largest no. 45\n"
          ]
        }
      ],
      "source": [
        "a,b,c = 25,35,45\n",
        "if a > b :\n",
        "  if a > c :\n",
        "    print(\"a is a largest no.\",a)\n",
        "  else :\n",
        "    print(\"c is a largest no.\",c)\n",
        "else :\n",
        "  if b > c :\n",
        "    print(\"b is a largest no.\",b)\n",
        "  else :\n",
        "    print(\"c is a largest no.\",c)"
      ]
    },
    {
      "cell_type": "code",
      "execution_count": null,
      "metadata": {
        "colab": {
          "base_uri": "https://localhost:8080/"
        },
        "id": "PPFae-zL4I2X",
        "outputId": "0fcdfa31-cfa8-4f39-fb2b-366da02024e6"
      },
      "outputs": [
        {
          "name": "stdout",
          "output_type": "stream",
          "text": [
            "enter the no. value :0\n",
            "zero value\n"
          ]
        }
      ],
      "source": [
        "n = int(input(\"enter the no. value :\"))\n",
        "if n >=   0 :\n",
        "  if n == 0 :\n",
        "    print(\"zero value\")\n",
        "  else :\n",
        "      print(\"positive no.\")\n",
        "else :\n",
        "    print(\"negetive value\")"
      ]
    },
    {
      "cell_type": "code",
      "execution_count": null,
      "metadata": {
        "colab": {
          "base_uri": "https://localhost:8080/"
        },
        "id": "QZ1H16RL8NDn",
        "outputId": "0086e0f0-c5de-4e0b-b2f8-678f38bdb295"
      },
      "outputs": [
        {
          "name": "stdout",
          "output_type": "stream",
          "text": [
            "enter your choice option :%\n",
            "modulus of values 10\n"
          ]
        }
      ],
      "source": [
        "x, y = 10, 20\n",
        "option = input(\"enter your choice option :\")\n",
        "match option :\n",
        "  case '+' :\n",
        "    print(\"sum of values\", x + y)\n",
        "  case '-' :\n",
        "    print(\"substraction of values\", x - y)\n",
        "  case '*' :\n",
        "    print(\"multiplication of values\", x * y)\n",
        "  case '/' :\n",
        "    print(\"division of values\", x / y)\n",
        "  case '%' :\n",
        "    print(\"modulus of values\", x % y)\n",
        "  case '!=' :\n",
        "    print(\"x is not equal to y\", x != y )\n",
        "  case _ :\n",
        "    print(\"invalid operator\")"
      ]
    },
    {
      "cell_type": "code",
      "execution_count": null,
      "metadata": {
        "colab": {
          "base_uri": "https://localhost:8080/"
        },
        "id": "JfmyeJymEiKx",
        "outputId": "fbf2a69b-e550-47a7-da52-01c662ffd485"
      },
      "outputs": [
        {
          "name": "stdout",
          "output_type": "stream",
          "text": [
            "enter a day number :1\n",
            "monday\n"
          ]
        }
      ],
      "source": [
        "day = int(input(\"enter a day number :\"))\n",
        "match day :\n",
        "  case 1 : print(\"monday\")\n",
        "  case 2 : print(\"tuesday\")\n",
        "  case 3 : print(\"wednesday\")\n",
        "  case 4 : print(\"thuesday\")\n",
        "  case 5 : print(\"friay\")\n",
        "  case 6 : print(\"saturday\")\n",
        "  case 7 : print(\"sunday\")\n",
        "  case _ : print(\"holiday\")"
      ]
    },
    {
      "cell_type": "code",
      "execution_count": null,
      "metadata": {
        "colab": {
          "base_uri": "https://localhost:8080/"
        },
        "id": "c9t2VSp4F-gJ",
        "outputId": "a4f5799c-2e4d-436f-c359-99a3aeb2f809"
      },
      "outputs": [
        {
          "name": "stdout",
          "output_type": "stream",
          "text": [
            "enter a month number :10\n",
            "october\n"
          ]
        }
      ],
      "source": [
        "month = int(input(\"enter a month number :\"))\n",
        "match month :\n",
        "  case 1 : print(\"janury\")\n",
        "  case 2 : print(\"februry\")\n",
        "  case 3 : print(\"march\")\n",
        "  case 4 : print(\"april\")\n",
        "  case 5 : print(\"may\")\n",
        "  case 6 : print(\"june\")\n",
        "  case 7 : print(\"july\")\n",
        "  case 8 : print(\"augst\")\n",
        "  case 9 : print(\"september\")\n",
        "  case 10 : print(\"october\")\n",
        "  case 11 : print(\"november\")\n",
        "  case 12 : print(\"december\")\n",
        "  case _ : print(\"invalid no.\")"
      ]
    },
    {
      "cell_type": "code",
      "execution_count": null,
      "metadata": {
        "colab": {
          "base_uri": "https://localhost:8080/"
        },
        "id": "Oy7MgaPMIUpR",
        "outputId": "8b1a16c7-e384-4fe7-e272-65e961b7c694"
      },
      "outputs": [
        {
          "name": "stdout",
          "output_type": "stream",
          "text": [
            "1 2 3 4 5 6 7 8 9 10 11 12 13 14 15 16 17 18 19 20 21 22 23 24 25 26 27 28 29 30 31 32 33 34 35 36 37 38 39 40 41 42 43 44 45 46 47 48 49 50 51 52 53 54 55 56 57 58 59 60 "
          ]
        }
      ],
      "source": [
        "i = 1\n",
        "while i <= 60 :\n",
        "  print(i,end= \" \")\n",
        "  i +=1"
      ]
    },
    {
      "cell_type": "code",
      "execution_count": null,
      "metadata": {
        "colab": {
          "base_uri": "https://localhost:8080/"
        },
        "id": "rznYjHFILY-6",
        "outputId": "3028a184-e8ca-42c4-8f32-1037dc76ff77"
      },
      "outputs": [
        {
          "name": "stdout",
          "output_type": "stream",
          "text": [
            "sum of n natural numbers : 55\n"
          ]
        }
      ],
      "source": [
        "i = 1\n",
        "add = 0\n",
        "while i <= 10 :\n",
        "  add = add + i\n",
        "  i =  i+1\n",
        "\n",
        "print(\"sum of n natural numbers :\",add)"
      ]
    },
    {
      "cell_type": "code",
      "execution_count": null,
      "metadata": {
        "colab": {
          "base_uri": "https://localhost:8080/"
        },
        "id": "4RSKGECgPwsL",
        "outputId": "1ca3adde-dcb9-4238-eb31-d24c372460a7"
      },
      "outputs": [
        {
          "name": "stdout",
          "output_type": "stream",
          "text": [
            "5* 1 = 5\n",
            "5* 2 = 10\n",
            "5* 3 = 15\n",
            "5* 4 = 20\n",
            "5* 5 = 25\n",
            "5* 6 = 30\n",
            "5* 7 = 35\n",
            "5* 8 = 40\n",
            "5* 9 = 45\n",
            "5* 10 = 50\n"
          ]
        }
      ],
      "source": [
        "num = 5\n",
        "i = 1\n",
        "while i<= 10 :\n",
        "  print(\"5*\",i,\"=\",num*i)\n",
        "  i = i + 1"
      ]
    },
    {
      "cell_type": "code",
      "execution_count": null,
      "metadata": {
        "id": "Nh6pHe0VUNKr"
      },
      "outputs": [],
      "source": [
        "num = 153\n",
        "rem = 0\n",
        "sum = 0\n",
        "temp = num\n",
        "while num != 0:\n",
        "  print( )"
      ]
    },
    {
      "cell_type": "code",
      "execution_count": null,
      "metadata": {
        "colab": {
          "base_uri": "https://localhost:8080/"
        },
        "id": "vMOM8E71W9v2",
        "outputId": "514a4822-5d34-446a-ed21-9a513a719f00"
      },
      "outputs": [
        {
          "name": "stdout",
          "output_type": "stream",
          "text": [
            "armstrong number\n"
          ]
        }
      ],
      "source": [
        "num =153\n",
        "rem =0\n",
        "sum =0\n",
        "tem =num\n",
        "while num > 0 :\n",
        "  rem = num %10\n",
        "  sum =sum +rem*rem*rem\n",
        "  num = num //10\n",
        "if tem == sum :\n",
        "  print(\"armstrong number\")\n",
        "else:\n",
        "  print(\"not armstrong\")"
      ]
    },
    {
      "cell_type": "code",
      "execution_count": null,
      "metadata": {
        "colab": {
          "base_uri": "https://localhost:8080/"
        },
        "id": "RfWtOBlgbCkF",
        "outputId": "9ce26384-b6d6-48b9-fbbc-6ab486dedf5c"
      },
      "outputs": [
        {
          "name": "stdout",
          "output_type": "stream",
          "text": [
            "polindrom\n"
          ]
        }
      ],
      "source": [
        "num = 12321\n",
        "rem = 0\n",
        "rev = 0\n",
        "temp = num\n",
        "while num  > 0 :\n",
        "  rem = num % 10\n",
        "  rev = rev * 10+rem\n",
        "  num = num // 10\n",
        "if temp == rev :\n",
        "  print(\"polindrom\")\n",
        "else :\n",
        "  print(\"not polindrom\")"
      ]
    },
    {
      "cell_type": "code",
      "execution_count": null,
      "metadata": {
        "colab": {
          "base_uri": "https://localhost:8080/"
        },
        "id": "2Rnpr_6rdlNc",
        "outputId": "2b957da5-3af8-4230-9dfe-0823ad1e5fa0"
      },
      "outputs": [
        {
          "name": "stdout",
          "output_type": "stream",
          "text": [
            "1 3 5 7 9 11 13 15 17 19 21 23 25 27 29 31 33 35 37 39 41 43 45 47 49 51 53 55 57 59 61 63 65 67 69 71 73 75 77 79 81 83 85 87 89 91 93 95 97 99 "
          ]
        }
      ],
      "source": [
        "i = 1\n",
        "while i <= 100 :\n",
        "  print(i, end = \" \")\n",
        "  i+=2\n"
      ]
    },
    {
      "cell_type": "code",
      "source": [
        "colours = ['blue', 'red', 'pink', 'black']\n",
        "print(type(colours))\n",
        "\n",
        "for i in colours :\n",
        "  print(i)"
      ],
      "metadata": {
        "colab": {
          "base_uri": "https://localhost:8080/"
        },
        "id": "FDKcoNV61z99",
        "outputId": "f2dfac46-7f24-490c-9d56-9db33dd47ab3"
      },
      "execution_count": 8,
      "outputs": [
        {
          "output_type": "stream",
          "name": "stdout",
          "text": [
            "<class 'list'>\n",
            "blue\n",
            "red\n",
            "pink\n",
            "black\n"
          ]
        }
      ]
    },
    {
      "cell_type": "code",
      "source": [
        "numbers = {1, 2, 3, 4, 5, 6, 7, 8, 9}\n",
        "for i in numbers :\n",
        "  print(i)"
      ],
      "metadata": {
        "colab": {
          "base_uri": "https://localhost:8080/"
        },
        "id": "DdumTQfM4VVq",
        "outputId": "0811a23d-140e-4927-f06f-db1b673d56a7"
      },
      "execution_count": 9,
      "outputs": [
        {
          "output_type": "stream",
          "name": "stdout",
          "text": [
            "1\n",
            "2\n",
            "3\n",
            "4\n",
            "5\n",
            "6\n",
            "7\n",
            "8\n",
            "9\n"
          ]
        }
      ]
    },
    {
      "cell_type": "code",
      "source": [
        "name = \"KLE BK BCA College in Chikodi\"\n",
        "rev =\" \"\n",
        "for i in name :\n",
        "  rev = i + rev\n",
        "print(rev)"
      ],
      "metadata": {
        "colab": {
          "base_uri": "https://localhost:8080/"
        },
        "id": "5LwR_Ak_5cn4",
        "outputId": "38fbc5fa-1c8c-46e5-a229-7aac557dbb46"
      },
      "execution_count": 10,
      "outputs": [
        {
          "output_type": "stream",
          "name": "stdout",
          "text": [
            "idokihC ni egelloC ACB KB ELK \n"
          ]
        }
      ]
    },
    {
      "cell_type": "code",
      "source": [
        "\n",
        "\n",
        "   for i in range(1,10+1) :\n",
        "       print(i)"
      ],
      "metadata": {
        "colab": {
          "base_uri": "https://localhost:8080/"
        },
        "id": "9GjEckzQCRJf",
        "outputId": "b23e0b46-5048-4056-b74d-8dd573fe9545"
      },
      "execution_count": 17,
      "outputs": [
        {
          "output_type": "stream",
          "name": "stdout",
          "text": [
            "1\n",
            "2\n",
            "3\n",
            "4\n",
            "5\n",
            "6\n",
            "7\n",
            "8\n",
            "9\n",
            "10\n"
          ]
        }
      ]
    },
    {
      "cell_type": "code",
      "source": [
        "sum=0\n",
        "for i in range(1,11) :\n",
        "    sum+=i\n",
        "print(\"sum of n natural numbers :\",sum)"
      ],
      "metadata": {
        "colab": {
          "base_uri": "https://localhost:8080/"
        },
        "id": "G-13ke08FynW",
        "outputId": "08879371-7590-478c-aa84-9e599c0b2bae"
      },
      "execution_count": 30,
      "outputs": [
        {
          "output_type": "stream",
          "name": "stdout",
          "text": [
            "sum of n natural numbers : 55\n"
          ]
        }
      ]
    },
    {
      "cell_type": "code",
      "source": [
        "num=4\n",
        "for i in range(1,11) :\n",
        "    print(\"4\",i,\"=\",num*i)\n",
        ""
      ],
      "metadata": {
        "colab": {
          "base_uri": "https://localhost:8080/"
        },
        "id": "_jdjhFzSHgW-",
        "outputId": "e5bd5adb-5029-40ed-f9bb-88cc09b78611"
      },
      "execution_count": 34,
      "outputs": [
        {
          "output_type": "stream",
          "name": "stdout",
          "text": [
            "4 1 = 4\n",
            "4 2 = 8\n",
            "4 3 = 12\n",
            "4 4 = 16\n",
            "4 5 = 20\n",
            "4 6 = 24\n",
            "4 7 = 28\n",
            "4 8 = 32\n",
            "4 9 = 36\n",
            "4 10 = 40\n"
          ]
        }
      ]
    },
    {
      "cell_type": "code",
      "source": [
        "\n",
        "for i in range(2, 101,2):\n",
        "     print(i,end=\"  \")"
      ],
      "metadata": {
        "colab": {
          "base_uri": "https://localhost:8080/"
        },
        "id": "eRPntrHWJQR-",
        "outputId": "ade9d265-58b1-4149-b9c4-fc8378665f90"
      },
      "execution_count": 43,
      "outputs": [
        {
          "output_type": "stream",
          "name": "stdout",
          "text": [
            "2  4  6  8  10  12  14  16  18  20  22  24  26  28  30  32  34  36  38  40  42  44  46  48  50  52  54  56  58  60  62  64  66  68  70  72  74  76  78  80  82  84  86  88  90  92  94  96  98  100  "
          ]
        }
      ]
    },
    {
      "cell_type": "code",
      "source": [
        "for i in range(3, 102,3):\n",
        "     print(i,end=\"  \")"
      ],
      "metadata": {
        "colab": {
          "base_uri": "https://localhost:8080/"
        },
        "id": "Kj7zUpZyKJIo",
        "outputId": "004cc745-b486-4772-fe81-0439817d425a"
      },
      "execution_count": 44,
      "outputs": [
        {
          "output_type": "stream",
          "name": "stdout",
          "text": [
            "3  6  9  12  15  18  21  24  27  30  33  36  39  42  45  48  51  54  57  60  63  66  69  72  75  78  81  84  87  90  93  96  99  "
          ]
        }
      ]
    },
    {
      "cell_type": "code",
      "source": [
        "fact=1\n",
        "for i in range(1,6):\n",
        "  fact = fact * i\n",
        "print(\"factorial number is :\",fact)"
      ],
      "metadata": {
        "colab": {
          "base_uri": "https://localhost:8080/"
        },
        "id": "KzXCkZ1nKdo2",
        "outputId": "6aec3f94-63a4-4330-d22d-c6a9f6cad72a"
      },
      "execution_count": 61,
      "outputs": [
        {
          "output_type": "stream",
          "name": "stdout",
          "text": [
            "factorial number is : 120\n"
          ]
        }
      ]
    },
    {
      "cell_type": "code",
      "source": [
        "a,b=0,1\n",
        "for i in range(1,14) :\n",
        "  print(a, end=\" \")\n",
        "  a,b = b, a+b\n",
        ""
      ],
      "metadata": {
        "colab": {
          "base_uri": "https://localhost:8080/"
        },
        "id": "g1vfik1iM2Bl",
        "outputId": "44206776-69f8-468f-dbdd-f678c1f1e888"
      },
      "execution_count": 66,
      "outputs": [
        {
          "output_type": "stream",
          "name": "stdout",
          "text": [
            "0 1 1 2 3 5 8 13 21 34 55 89 144 "
          ]
        }
      ]
    },
    {
      "cell_type": "code",
      "source": [],
      "metadata": {
        "id": "Mgu2fPIkPiEc"
      },
      "execution_count": 68,
      "outputs": []
    }
  ],
  "metadata": {
    "colab": {
      "provenance": []
    },
    "kernelspec": {
      "display_name": "Python 3",
      "name": "python3"
    },
    "language_info": {
      "name": "python"
    }
  },
  "nbformat": 4,
  "nbformat_minor": 0
}