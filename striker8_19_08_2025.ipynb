{
  "nbformat": 4,
  "nbformat_minor": 0,
  "metadata": {
    "colab": {
      "provenance": []
    },
    "kernelspec": {
      "name": "python3",
      "display_name": "Python 3"
    },
    "language_info": {
      "name": "python"
    }
  },
  "cells": [
    {
      "cell_type": "code",
      "execution_count": 1,
      "metadata": {
        "colab": {
          "base_uri": "https://localhost:8080/"
        },
        "id": "0MOHzfmp-jAY",
        "outputId": "57463cb6-5b72-4ab6-d6a2-817947bd5c16"
      },
      "outputs": [
        {
          "output_type": "stream",
          "name": "stdout",
          "text": [
            "    ⚽️ ⚽️ ⚽️ ⚽️ ⚽️ \n",
            "   ⚽️ ⚽️ ⚽️ ⚽️ ⚽️ \n",
            "  ⚽️ ⚽️ ⚽️ ⚽️ ⚽️ \n",
            " ⚽️ ⚽️ ⚽️ ⚽️ ⚽️ \n",
            "⚽️ ⚽️ ⚽️ ⚽️ ⚽️ \n"
          ]
        }
      ],
      "source": [
        "for i in range (5):\n",
        "  for j in range(i+1,5):\n",
        "      print(\" \",end=\"\")\n",
        "  for j in range(5):\n",
        "        print(\"⚽️\",end=\" \")\n",
        "  print()\n"
      ]
    },
    {
      "cell_type": "code",
      "source": [
        "num=7\n",
        "for i in range (0,num):\n",
        "    for j in range (0,num-i-1):\n",
        "        print(\"\",end=\" \")\n",
        "    for j in range(0,i*2+1):\n",
        "       print(chr(67+j),end=\" \")\n",
        "    print()\n"
      ],
      "metadata": {
        "colab": {
          "base_uri": "https://localhost:8080/"
        },
        "id": "aWtPj7B2GiO5",
        "outputId": "3527d3b3-2823-473a-8703-505b494b7227"
      },
      "execution_count": null,
      "outputs": [
        {
          "output_type": "stream",
          "name": "stdout",
          "text": [
            "      C \n",
            "     C D E \n",
            "    C D E F G \n",
            "   C D E F G H I \n",
            "  C D E F G H I J K \n",
            " C D E F G H I J K L M \n",
            "C D E F G H I J K L M N O \n"
          ]
        }
      ]
    },
    {
      "cell_type": "code",
      "source": [
        "num=7\n",
        "for i in range (0,num):\n",
        "    for j in range (0,num-i-1):\n",
        "        print(\"\",end=\" \")\n",
        "    for j in range(0,i*2+1):\n",
        "       print(\"*\", end=\" \")\n",
        "    print()\n",
        "for i in range(0,num):\n",
        "    for j in range (0,i) :\n",
        "        print(\" \",end=\" \")\n",
        "    for j in range(0,(num-i)*2*1):\n",
        "        print(\"*\",end=\" \")\n",
        "    print()"
      ],
      "metadata": {
        "colab": {
          "base_uri": "https://localhost:8080/"
        },
        "id": "XtBXVSx0LeDi",
        "outputId": "9c75f5a7-1b0a-41d2-8ddb-dddc456def04"
      },
      "execution_count": null,
      "outputs": [
        {
          "output_type": "stream",
          "name": "stdout",
          "text": [
            "      * \n",
            "     * * * \n",
            "    * * * * * \n",
            "   * * * * * * * \n",
            "  * * * * * * * * * \n",
            " * * * * * * * * * * * \n",
            "* * * * * * * * * * * * * \n",
            "* * * * * * * * * * * * * * \n",
            "  * * * * * * * * * * * * \n",
            "    * * * * * * * * * * \n",
            "      * * * * * * * * \n",
            "        * * * * * * \n",
            "          * * * * \n",
            "            * * \n"
          ]
        }
      ]
    },
    {
      "cell_type": "code",
      "source": [
        "def add(a,b):\n",
        "    print(f'addition of two numbers is{a+b}')\n",
        "add(5,10)\n"
      ],
      "metadata": {
        "colab": {
          "base_uri": "https://localhost:8080/"
        },
        "id": "0_9gZojeOcv5",
        "outputId": "190deca2-94aa-42ea-88cb-dc52e9f59682"
      },
      "execution_count": null,
      "outputs": [
        {
          "output_type": "stream",
          "name": "stdout",
          "text": [
            "addition of two numbers is15\n"
          ]
        }
      ]
    },
    {
      "cell_type": "code",
      "source": [
        "def fun (name,game,time) :\n",
        "    print(f\"I'm {name}  i'm playing {game} at {time} time\")\n",
        "fun(time=\"evening,\",name=\"abhi\",game=\"crikket\")"
      ],
      "metadata": {
        "colab": {
          "base_uri": "https://localhost:8080/"
        },
        "id": "Wo3J89Uectc6",
        "outputId": "d6fb5121-ed1c-42a2-87bb-e6be2a711573"
      },
      "execution_count": null,
      "outputs": [
        {
          "output_type": "stream",
          "name": "stdout",
          "text": [
            "I'm abhi  i'm playing crikket at evening, time\n"
          ]
        }
      ]
    },
    {
      "cell_type": "code",
      "source": [
        "def laptop(name=\"lenove\"):\n",
        "    print(\"my laptop name is :\",name)\n",
        "laptop(\"dell\")\n",
        "laptop(\"Asus\")\n",
        "laptop()\n",
        "laptop(\"MSI\")"
      ],
      "metadata": {
        "colab": {
          "base_uri": "https://localhost:8080/"
        },
        "id": "BLRX49TIeXKi",
        "outputId": "955e2999-bc99-4ab5-c4a8-ecb32cc63430"
      },
      "execution_count": null,
      "outputs": [
        {
          "output_type": "stream",
          "name": "stdout",
          "text": [
            "my laptop name is : dell\n",
            "my laptop name is : Asus\n",
            "my laptop name is : lenove\n",
            "my laptop name is : MSI\n"
          ]
        }
      ]
    },
    {
      "cell_type": "code",
      "source": [
        "# 1) example sum of numbers using *args\n",
        "def add (*args):\n",
        "    total=0\n",
        "    for num in args:\n",
        "            total +=num\n",
        "    print(\"total value is :\",total)\n",
        "add(10,5)\n",
        "add(5,4,9)\n",
        "add(10,46,14,20)"
      ],
      "metadata": {
        "colab": {
          "base_uri": "https://localhost:8080/"
        },
        "id": "WMd4_jKLD8_l",
        "outputId": "d5d50127-9623-44ed-9c12-c4b24f26d64d"
      },
      "execution_count": null,
      "outputs": [
        {
          "output_type": "stream",
          "name": "stdout",
          "text": [
            "total value is : 15\n",
            "total value is : 18\n",
            "total value is : 90\n"
          ]
        }
      ]
    },
    {
      "cell_type": "code",
      "source": [
        "def details(**kwargs):\n",
        "   for key, value in kwargs.items():\n",
        "      print(f'my details is {key} and {value}')\n",
        "\n",
        "details(course = \"bca\",   section ='c',college =\"bk college\")\n",
        "details(place=\"bangluru\")\n",
        "details(roll_num = 201,t_subject=7)\n",
        "details(laptop =\"lenovo\",o_s=\"window\",year=2022,version =\"windows\")"
      ],
      "metadata": {
        "colab": {
          "base_uri": "https://localhost:8080/"
        },
        "id": "SScW3-jzL3cL",
        "outputId": "ebe6f119-f67a-4dc8-d783-8e101faa9191"
      },
      "execution_count": null,
      "outputs": [
        {
          "output_type": "stream",
          "name": "stdout",
          "text": [
            "my details is course and bca\n",
            "my details is section and c\n",
            "my details is college and bk college\n",
            "my details is place and bangluru\n",
            "my details is roll_num and 201\n",
            "my details is t_subject and 7\n",
            "my details is laptop and lenovo\n",
            "my details is o_s and window\n",
            "my details is year and 2022\n",
            "my details is version and windows\n"
          ]
        }
      ]
    },
    {
      "cell_type": "code",
      "source": [
        "#example of *args and **kwargs\n",
        "def show_values (*args,**kwargs):\n",
        "    print(\"positional arguments represented in tupal\",args)\n",
        "    print(\"key-words arguments represented in dict\",kwargs)\n",
        "show_values(1,2,3,4,name=\"shivashankar\")\n",
        "\n",
        "show_values(5,6,7,8,clss= \"bca c section\",gender=\"male\")\n"
      ],
      "metadata": {
        "colab": {
          "base_uri": "https://localhost:8080/"
        },
        "id": "8itMmoduQNSE",
        "outputId": "5d4431e8-34bc-4519-c192-d8f2b40cbf27"
      },
      "execution_count": null,
      "outputs": [
        {
          "output_type": "stream",
          "name": "stdout",
          "text": [
            "positional arguments represented in tupal (1, 2, 3, 4)\n",
            "key-words arguments represented in dict {'name': 'shivashankar'}\n",
            "positional arguments represented in tupal (5, 6, 7, 8)\n",
            "key-words arguments represented in dict {'clss': 'bca c section', 'gender': 'male'}\n"
          ]
        }
      ]
    },
    {
      "cell_type": "code",
      "source": [
        "i=1\n",
        "fact=1\n",
        "while i<6 :\n",
        "      fact=fact*i\n",
        "      i=i+1\n",
        "print(fact)"
      ],
      "metadata": {
        "colab": {
          "base_uri": "https://localhost:8080/"
        },
        "id": "qy1KAoC_UAX0",
        "outputId": "6c4c0862-5890-46ec-a2a5-d9dbc6cfa6c2"
      },
      "execution_count": null,
      "outputs": [
        {
          "output_type": "stream",
          "name": "stdout",
          "text": [
            "120\n"
          ]
        }
      ]
    },
    {
      "cell_type": "code",
      "source": [
        "def fact (num):\n",
        "  if num==0 or num==1:\n",
        "      return num\n",
        "  else:\n",
        "      return num *fact (num-1)\n",
        "print(\"factorial number is:\",fact(5))\n"
      ],
      "metadata": {
        "colab": {
          "base_uri": "https://localhost:8080/"
        },
        "id": "jjFiFYgsXJVb",
        "outputId": "b1caaf0c-7890-4f24-8a63-9715e967111d"
      },
      "execution_count": null,
      "outputs": [
        {
          "output_type": "stream",
          "name": "stdout",
          "text": [
            "factorial number is: 120\n"
          ]
        }
      ]
    },
    {
      "cell_type": "code",
      "source": [
        "class Fruit:\n",
        "  colour=\"orange\"\n",
        "  price=250\n",
        "  teste=\"sweet\"\n",
        "  shape=\"circle\"\n",
        "  def juice(self):\n",
        "    print(\"bad\")\n",
        "orange =Fruit()\n",
        "print(\"orange colour is \",orange.colour)\n",
        "orange.juice()"
      ],
      "metadata": {
        "colab": {
          "base_uri": "https://localhost:8080/"
        },
        "id": "NGl2wnxgriEB",
        "outputId": "9df00c5b-0061-42ff-9500-4fb164a7279a"
      },
      "execution_count": null,
      "outputs": [
        {
          "output_type": "stream",
          "name": "stdout",
          "text": [
            "orange colour is  orange\n",
            "bad\n"
          ]
        }
      ]
    },
    {
      "cell_type": "code",
      "source": [
        "class Flower:\n",
        "    smell=\"good\"\n",
        "    petal=5\n",
        "    size=\"larger\"\n",
        "    gender=\"male\"\n",
        "    validity=1\n",
        "def decoration(self):\n",
        "    print(\"hello good morning\")\n",
        "def gift(self):\n",
        "    print(\"good night\")\n",
        "def marrige(self):\n",
        "    print(marrige)"
      ],
      "metadata": {
        "id": "1JkT9rSst03B"
      },
      "execution_count": null,
      "outputs": []
    },
    {
      "cell_type": "code",
      "source": [
        "class Fan :\n",
        "   colour = \"black\"\n",
        "   wings = 3\n",
        "   c_name =\"bajaj\"\n",
        "   price = 1500\n",
        "   warrenty = \"2year\"\n",
        "   def start (self):\n",
        "       print(\"when click on button it'll start\")\n",
        "   def speed (self):\n",
        "       print(\"based on condition it'll move fast\")\n",
        "   def stop (self):\n",
        "       print(\"when click on of button it will stop\")\n",
        "obj = Fan()\n",
        "print(obj.c_name+ \" \" +obj . warrenty)\n",
        "obj.stop()\n",
        "obj.start()\n",
        "\n"
      ],
      "metadata": {
        "colab": {
          "base_uri": "https://localhost:8080/"
        },
        "id": "ZTgKQwL1x6wQ",
        "outputId": "6ef512c6-bd4e-4ac4-b184-47f7a29f480c"
      },
      "execution_count": null,
      "outputs": [
        {
          "output_type": "stream",
          "name": "stdout",
          "text": [
            "bajaj 2year\n",
            "when click on of button it will stop\n",
            "when click on button it'll start\n"
          ]
        }
      ]
    },
    {
      "cell_type": "code",
      "source": [
        "def fun (name):\n",
        "    print(\"my name is a \",name)\n",
        "fun(\"🍌\")"
      ],
      "metadata": {
        "colab": {
          "base_uri": "https://localhost:8080/"
        },
        "id": "HsgsaQVax4VS",
        "outputId": "0059f1ec-0036-49ff-82a5-3d7c4b8092bd"
      },
      "execution_count": null,
      "outputs": [
        {
          "output_type": "stream",
          "name": "stdout",
          "text": [
            "my name is a  🍌\n"
          ]
        }
      ]
    },
    {
      "cell_type": "code",
      "source": [
        "# Banking Example\n",
        "class bank :\n",
        "    def_init_(self,balance):\n",
        "      self.balance = balance\n",
        "\n",
        "    def deposit(self,amount):\n",
        "        self.balance =amount\n"
      ],
      "metadata": {
        "colab": {
          "base_uri": "https://localhost:8080/",
          "height": 110
        },
        "id": "9CpK4FiHCWUu",
        "outputId": "222aff62-67f3-4092-ae47-23399bb0ea7e"
      },
      "execution_count": null,
      "outputs": [
        {
          "output_type": "error",
          "ename": "SyntaxError",
          "evalue": "invalid syntax (ipython-input-3760731337.py, line 3)",
          "traceback": [
            "\u001b[0;36m  File \u001b[0;32m\"/tmp/ipython-input-3760731337.py\"\u001b[0;36m, line \u001b[0;32m3\u001b[0m\n\u001b[0;31m    def_init_(self,balance):\u001b[0m\n\u001b[0m                           ^\u001b[0m\n\u001b[0;31mSyntaxError\u001b[0m\u001b[0;31m:\u001b[0m invalid syntax\n"
          ]
        }
      ]
    },
    {
      "cell_type": "code",
      "source": [
        "# Banking Example\n",
        "class bank :\n",
        "    def _init_(self,balance):\n",
        "        self.balance = balance\n",
        "\n",
        "    def deposit(self,amount):\n",
        "        self.balance +=amount\n",
        "    def withdraw (self, amount):\n",
        "        if amount <=self.balance:\n",
        "            self.balance -= amount"
      ],
      "metadata": {
        "id": "kCXcaxN2IfNb"
      },
      "execution_count": null,
      "outputs": []
    },
    {
      "cell_type": "code",
      "source": [
        "# Banking Example\n",
        "class Bank :\n",
        "    def __init__(self,balance):\n",
        "        self.balance = balance\n",
        "\n",
        "    def deposit(self,amount):\n",
        "        self.balance +=amount\n",
        "    def withdraw(self, amount):\n",
        "        if amount <=self.balance:\n",
        "            self.balance -= amount\n",
        "            print (\"transaction successfully\")\n",
        "        else:\n",
        "            print(\"insufficient balance\")\n",
        "    def re_balance(self):\n",
        "        return self.balance\n",
        "obj = Bank(1000)\n",
        "print(obj.balance)\n",
        "obj.deposit(500)\n",
        "print(obj.balance)\n",
        "obj.withdraw(700)\n",
        "print(obj.re_balance())\n",
        "obj.deposit(1000)\n",
        "print(\"current total balance is\", obj.balance)\n",
        "obj.withdraw(2000)\n",
        "obj.withdraw(300)\n",
        "print(\"current total balance is\" ,obj.balance)"
      ],
      "metadata": {
        "colab": {
          "base_uri": "https://localhost:8080/"
        },
        "id": "qrj5cUXHKYX4",
        "outputId": "acbc4997-de76-4b2a-fe48-e1c41a2231cd"
      },
      "execution_count": null,
      "outputs": [
        {
          "output_type": "stream",
          "name": "stdout",
          "text": [
            "1000\n",
            "1500\n",
            "transaction successfully\n",
            "800\n",
            "current total balance is 1800\n",
            "insufficient balance\n",
            "transaction successfully\n",
            "current total balance is 1500\n"
          ]
        }
      ]
    },
    {
      "cell_type": "code",
      "source": [
        "# Encapsulation Example\n",
        "class student:\n",
        "  def __init__(self,name,marks,place):\n",
        "      self._name = name       # pravite variable\n",
        "      self._marks = marks     # pravite variable\n",
        "      self.place = place      # pravite variable\n",
        "\n",
        "  def set_method(self,name,marks):\n",
        "     self._name = name\n",
        "     self._marks = marks\n",
        "\n",
        "  def get_method(self):\n",
        "    return self._name + \" \" +str(self._marks)\n",
        "\n",
        "obj = student(\"prajwal\",85,\"hebbal\")\n",
        "obj.set_method(\"shivashanker\",69)\n",
        "print(obj.get_method())"
      ],
      "metadata": {
        "colab": {
          "base_uri": "https://localhost:8080/"
        },
        "id": "QOjzLY-FPn8-",
        "outputId": "b5acdd70-4327-4bb4-c9c5-be566224bfd3"
      },
      "execution_count": null,
      "outputs": [
        {
          "output_type": "stream",
          "name": "stdout",
          "text": [
            "shivashanker 69\n"
          ]
        }
      ]
    },
    {
      "cell_type": "code",
      "source": [
        "#multiple level inheritance\n",
        "class parent :\n",
        "  def business(self):\n",
        "    print(\"my parents are doing business\")\n",
        "\n",
        "class child1(parent) :\n",
        "  def study (self):\n",
        "    print(\"i'am studying BCA\")\n",
        "\n",
        "class child2(parent):\n",
        "    def study (self):\n",
        "        print(\"I'm studying PUC\")"
      ],
      "metadata": {
        "id": "x31GopzObxvq"
      },
      "execution_count": null,
      "outputs": []
    },
    {
      "cell_type": "code",
      "source": [
        "##Multiple level inheritance\n",
        "class parent :\n",
        "    def business(self) :\n",
        "        print(\"my parents are doing business\")\n",
        "\n",
        "class child1(parent) :\n",
        "    def study (self) :\n",
        "        print(\"i'am studying bca\")\n",
        "\n",
        "class child2(parent) :\n",
        "    def study (self) :\n",
        "        print(\"I'm studying puc\")\n",
        "\n",
        "obj1=child1()\n",
        "obj1.study()\n",
        "obj1.business()\n",
        "\n",
        "obj2=child2()\n",
        "obj2.study()\n",
        "obj2.business()"
      ],
      "metadata": {
        "colab": {
          "base_uri": "https://localhost:8080/"
        },
        "id": "BshO9RsCkYi5",
        "outputId": "9c9daf85-d140-4ab1-86a7-d1ea86112aac"
      },
      "execution_count": 2,
      "outputs": [
        {
          "output_type": "stream",
          "name": "stdout",
          "text": [
            "i'am studying bca\n",
            "my parents are doing business\n",
            "I'm studying puc\n",
            "my parents are doing business\n"
          ]
        }
      ]
    }
  ]
}