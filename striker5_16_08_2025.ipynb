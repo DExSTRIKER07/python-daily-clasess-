{
  "nbformat": 4,
  "nbformat_minor": 0,
  "metadata": {
    "colab": {
      "provenance": []
    },
    "kernelspec": {
      "name": "python3",
      "display_name": "Python 3"
    },
    "language_info": {
      "name": "python"
    }
  },
  "cells": [
    {
      "cell_type": "code",
      "source": [
        "A = 10\n",
        "B = 20=\n",
        "print (A+B)"
      ],
      "metadata": {
        "colab": {
          "base_uri": "https://localhost:8080/"
        },
        "id": "8Njs0Vw_r-MY",
        "outputId": "5bc93d85-1dc9-4d48-f956-daa45f32d808"
      },
      "execution_count": null,
      "outputs": [
        {
          "output_type": "stream",
          "name": "stdout",
          "text": [
            "30\n"
          ]
        }
      ]
    },
    {
      "cell_type": "code",
      "source": [
        "X = int(input(\"Enter X value:\"))\n",
        "Y = int(input(\"Enter Y value:\"))\n",
        "print(X+Y)"
      ],
      "metadata": {
        "colab": {
          "base_uri": "https://localhost:8080/"
        },
        "id": "0WawjKd5tzL3",
        "outputId": "82438d9e-d75e-4cff-bfce-4c288f638851"
      },
      "execution_count": null,
      "outputs": [
        {
          "output_type": "stream",
          "name": "stdout",
          "text": [
            "Enter X value:10\n",
            "Enter Y value:20\n",
            "30\n"
          ]
        }
      ]
    },
    {
      "cell_type": "code",
      "source": [
        "X =int(input(\"Enter X value:\"))\n",
        "Y =int(input(\"Enter Y value:\"))\n",
        "print(\"Addion of\",X,\"and\",Y,\"is\",X+Y)"
      ],
      "metadata": {
        "colab": {
          "base_uri": "https://localhost:8080/"
        },
        "id": "N98TF2TiuqVX",
        "outputId": "69dc8ceb-f064-439c-f17e-6324d4ba3f1a"
      },
      "execution_count": null,
      "outputs": [
        {
          "output_type": "stream",
          "name": "stdout",
          "text": [
            "Enter X value:10\n",
            "Enter Y value:25\n",
            "Addion of 10 and 25 is 35\n"
          ]
        }
      ]
    },
    {
      "cell_type": "code",
      "source": [
        "first = float(input(\"enter first value:\"))\n",
        "second= float(input(\"enter second value:\"))\n",
        "print(first * second)"
      ],
      "metadata": {
        "colab": {
          "base_uri": "https://localhost:8080/"
        },
        "id": "OuTC_DT5wGx3",
        "outputId": "412f33af-1340-4388-bb36-83c6f76692b9"
      },
      "execution_count": null,
      "outputs": [
        {
          "output_type": "stream",
          "name": "stdout",
          "text": [
            "enter first value:10\n",
            "enter second value:20\n",
            "200.0\n"
          ]
        }
      ]
    },
    {
      "cell_type": "code",
      "source": [
        "first_name = input(\"enter first name :\")\n",
        "last_name = input(\"enter second name:\")\n",
        "print(first_name + \" \" + last_name)"
      ],
      "metadata": {
        "colab": {
          "base_uri": "https://localhost:8080/"
        },
        "id": "PRzeQUnWwyef",
        "outputId": "a3389afe-ceeb-457f-a613-7224a29e5116"
      },
      "execution_count": null,
      "outputs": [
        {
          "output_type": "stream",
          "name": "stdout",
          "text": [
            "enter first name :prajwal\n",
            "enter second name:sandesh\n",
            "prajwal sandesh\n"
          ]
        }
      ]
    },
    {
      "cell_type": "code",
      "source": [
        "A= int(input(\"enter A value:\"))\n",
        "B=int(input(\"enter B value:\"))\n",
        "print(\"multiflication of\",A,\"and\",B,\"is\", A * B)"
      ],
      "metadata": {
        "colab": {
          "base_uri": "https://localhost:8080/"
        },
        "id": "H9Btq-ZjxhUW",
        "outputId": "96bc31ba-b503-49d2-eb92-c41535f6be3b"
      },
      "execution_count": null,
      "outputs": [
        {
          "output_type": "stream",
          "name": "stdout",
          "text": [
            "enter A value:7\n",
            "enter B value:6\n",
            "multiflication of 7 and 6 is 42\n"
          ]
        }
      ]
    },
    {
      "cell_type": "code",
      "source": [
        "print(\"hello world\")"
      ],
      "metadata": {
        "colab": {
          "base_uri": "https://localhost:8080/"
        },
        "id": "DdZ6WPFEzBW-",
        "outputId": "9302e6a6-ec55-43a0-9106-293039e7ded4"
      },
      "execution_count": null,
      "outputs": [
        {
          "output_type": "stream",
          "name": "stdout",
          "text": [
            "hello world\n"
          ]
        }
      ]
    },
    {
      "cell_type": "code",
      "source": [
        "i= input()\n",
        "j= input()\n",
        "print(i+j)"
      ],
      "metadata": {
        "colab": {
          "base_uri": "https://localhost:8080/"
        },
        "id": "wFMmdzKu15_W",
        "outputId": "51a1e86f-75c5-4480-b24e-111056b608f9"
      },
      "execution_count": null,
      "outputs": [
        {
          "output_type": "stream",
          "name": "stdout",
          "text": [
            "bk \n",
            "clg\n",
            "bk clg\n"
          ]
        }
      ]
    },
    {
      "cell_type": "code",
      "source": [
        "X =100\n",
        "Y =50\n",
        "print(f'addition of {X} AND {Y} value is = {X+Y}')"
      ],
      "metadata": {
        "colab": {
          "base_uri": "https://localhost:8080/"
        },
        "id": "8wZajEnl2TfW",
        "outputId": "2d723f41-0b10-4392-91ae-32c600da07ab"
      },
      "execution_count": null,
      "outputs": [
        {
          "output_type": "stream",
          "name": "stdout",
          "text": [
            "addition of 100 AND 50 value is = 150\n"
          ]
        }
      ]
    },
    {
      "cell_type": "code",
      "source": [
        "X =100\n",
        "Y =50\n",
        "print(f'division of {X} AND {Y} value is = {X/Y}')"
      ],
      "metadata": {
        "colab": {
          "base_uri": "https://localhost:8080/"
        },
        "id": "dor9_7em49wm",
        "outputId": "cc38c56f-33ea-4408-cd57-2354af8c7f06"
      },
      "execution_count": null,
      "outputs": [
        {
          "output_type": "stream",
          "name": "stdout",
          "text": [
            "division of 100 AND 50 value is = 2.0\n"
          ]
        }
      ]
    },
    {
      "cell_type": "code",
      "source": [
        "# Hi, good morning my name is prajwal, i have completed mca in the year of 2020, currently i'am working in kle bca chikodi 591221\n",
        "name =\"prajwal\"\n",
        "course =\"mca\"\n",
        "year =2020\n",
        "department =\"bca\"\n",
        "pincode = 591221\n",
        "print(f'hi,good morning my name is {name} , i have completed {course } in the year of {year}, currently i am working in kle {department } chikodi {pincode}')"
      ],
      "metadata": {
        "colab": {
          "base_uri": "https://localhost:8080/"
        },
        "id": "sfOIndYE5GD1",
        "outputId": "793ef26a-97cb-4e45-d136-bff0eca336bc"
      },
      "execution_count": null,
      "outputs": [
        {
          "output_type": "stream",
          "name": "stdout",
          "text": [
            "hi,good morning my name is prajwal , i have completed mca in the year of 2020, currently i am working in kle bca chikodi 591221\n"
          ]
        }
      ]
    },
    {
      "cell_type": "code",
      "source": [
        "n = 5\n",
        "m = 10\n",
        "sum = n * m\n",
        "print(sum)"
      ],
      "metadata": {
        "colab": {
          "base_uri": "https://localhost:8080/"
        },
        "id": "3-X3KVDJ98Wl",
        "outputId": "191f69ed-1bdf-4f48-8a76-5a6ee09e2aaf"
      },
      "execution_count": null,
      "outputs": [
        {
          "output_type": "stream",
          "name": "stdout",
          "text": [
            "50\n"
          ]
        }
      ]
    },
    {
      "cell_type": "code",
      "source": [
        "a = int(input(\"enter a value:\"))\n",
        "b = int(input(\"enter b value:\"))\n",
        "print()\n",
        "print(\"addition of two no is:\",a+b)\n",
        "print()\n",
        "print(\"substaction of two no is:\",a-b)\n",
        "print()\n",
        "print(\"multiplication of two no is:\",a*b)\n",
        "print()\n",
        "print(\"division of two no is:\",a/b)\n",
        "print()\n",
        "print(\"floor division of two no is:\",a//b)\n",
        "print()\n",
        "print(\"modulus of two no is:\",a%b)\n",
        "print()\n",
        "x = 5\n",
        "y = 3\n",
        "print(\"exponent of two is:\",x**y)"
      ],
      "metadata": {
        "colab": {
          "base_uri": "https://localhost:8080/"
        },
        "id": "0wrSUhxk-Xud",
        "outputId": "5f26d721-c501-430a-cf76-db8ff178ded8"
      },
      "execution_count": null,
      "outputs": [
        {
          "output_type": "stream",
          "name": "stdout",
          "text": [
            "enter a value:100\n",
            "enter b value:50\n",
            "\n",
            "addition of two no is: 150\n",
            "\n",
            "substaction of two no is: 50\n",
            "\n",
            "multiplication of two no is: 5000\n",
            "\n",
            "division of two no is: 2.0\n",
            "\n",
            "floor division of two no is: 2\n",
            "\n",
            "modulus of two no is: 0\n",
            "\n",
            "exponent of two is: 125\n"
          ]
        }
      ]
    },
    {
      "cell_type": "code",
      "source": [
        "a = 35\n",
        "b = 40\n",
        "print()\n",
        "print(a==b)\n",
        "print()\n",
        "print(a!=b)\n",
        "print()\n",
        "print(a>b)\n",
        "print()\n",
        "print(a<b)\n",
        "print()\n",
        "print(a>=b)\n",
        "print()\n",
        "print(a<=b)\n",
        "print()\n"
      ],
      "metadata": {
        "colab": {
          "base_uri": "https://localhost:8080/"
        },
        "id": "lzuU38V_DW8m",
        "outputId": "e8768edc-85f9-44ab-e56d-a416509b9b94"
      },
      "execution_count": null,
      "outputs": [
        {
          "output_type": "stream",
          "name": "stdout",
          "text": [
            "\n",
            "False\n",
            "\n",
            "True\n",
            "\n",
            "False\n",
            "\n",
            "True\n",
            "\n",
            "False\n",
            "\n",
            "True\n",
            "\n"
          ]
        }
      ]
    },
    {
      "cell_type": "code",
      "source": [
        "a = 20\n",
        "b = 35\n",
        "c = 13\n",
        "d = 10\n",
        "\n",
        "print( a == b and c < d)\n",
        "print()\n",
        "print( 13 != c and d < c)\n",
        "print()\n",
        "print( b > a and d < c)\n",
        "print()\n",
        "print( 20 != a and c == b)\n",
        "print()\n",
        "print( a < b or d==c)\n",
        "print()\n",
        "print( (not(a<b)) and 100 < 200 )\n",
        "print()\n",
        "print(not(d == 10))\n",
        "print()\n",
        "print( 35 != d or (not(20 == a)))\n",
        "print()\n",
        "print(not(c <= b and (not(a <= c))))\n",
        "print()\n",
        "print()"
      ],
      "metadata": {
        "colab": {
          "base_uri": "https://localhost:8080/"
        },
        "id": "3F0EhqzEMzUk",
        "outputId": "90c723f9-c850-485a-f9fc-b88dc4f6de5e"
      },
      "execution_count": null,
      "outputs": [
        {
          "output_type": "stream",
          "name": "stdout",
          "text": [
            "False\n",
            "\n",
            "False\n",
            "\n",
            "True\n",
            "\n",
            "False\n",
            "\n",
            "True\n",
            "\n",
            "False\n",
            "\n",
            "False\n",
            "\n",
            "True\n",
            "\n",
            "False\n",
            "\n",
            "\n"
          ]
        }
      ]
    },
    {
      "cell_type": "code",
      "source": [
        "x = 10\n",
        "print(x)\n",
        "\n",
        "x -= 2\n",
        "print(x)\n",
        "\n",
        "x *= 5\n",
        "print(x)\n",
        "\n",
        "x //= 3\n",
        "print(x)\n",
        "\n",
        "x **= 2\n",
        "print(x)\n",
        "\n",
        "x %= 4\n",
        "print(x)\n",
        "\n",
        "x += 9\n",
        "print(x)\n",
        "\n",
        "x /= 3\n",
        "print(x)"
      ],
      "metadata": {
        "colab": {
          "base_uri": "https://localhost:8080/"
        },
        "id": "8EEIjm8PRqg7",
        "outputId": "7f311504-d86d-48e8-846c-5dd54a9e4053"
      },
      "execution_count": null,
      "outputs": [
        {
          "output_type": "stream",
          "name": "stdout",
          "text": [
            "10\n",
            "8\n",
            "40\n",
            "13\n",
            "169\n",
            "1\n",
            "10\n",
            "3.3333333333333335\n"
          ]
        }
      ]
    },
    {
      "cell_type": "code",
      "source": [
        "n = 9\n",
        "if n < 10 :\n",
        "  print(\"10 is a greater than 9\")"
      ],
      "metadata": {
        "colab": {
          "base_uri": "https://localhost:8080/"
        },
        "id": "zlozhHgutbrM",
        "outputId": "e306836c-3e7b-43c7-980e-a8e3d4f51363"
      },
      "execution_count": 2,
      "outputs": [
        {
          "output_type": "stream",
          "name": "stdout",
          "text": [
            "10 is a greater than 9\n"
          ]
        }
      ]
    },
    {
      "cell_type": "code",
      "source": [
        "user_id = \"20mca103\"\n",
        "password = 1234\n",
        "if user_id == \"20mca103\" and password == 1234 :\n",
        "  print(\"login successfully\")"
      ],
      "metadata": {
        "colab": {
          "base_uri": "https://localhost:8080/"
        },
        "id": "_hb-olj-uzpF",
        "outputId": "8f61ae36-fbb8-4d3e-b6eb-bbae5231eea7"
      },
      "execution_count": 3,
      "outputs": [
        {
          "output_type": "stream",
          "name": "stdout",
          "text": [
            "login successfully\n"
          ]
        }
      ]
    },
    {
      "cell_type": "code",
      "source": [
        "ex = 59\n",
        "if ex == 58 :\n",
        "  print(\"are you undrstand\")"
      ],
      "metadata": {
        "id": "I34RSB0dvanU"
      },
      "execution_count": 8,
      "outputs": []
    },
    {
      "cell_type": "code",
      "source": [
        "name = \"Sandesh\"\n",
        "if name <= \"BKC\" :\n",
        "  print(\"my name is Sandesh\")"
      ],
      "metadata": {
        "id": "aRWJJxwTwSnR"
      },
      "execution_count": 11,
      "outputs": []
    },
    {
      "cell_type": "code",
      "source": [
        "num = int(input(\"enter a no. value :\"))\n",
        "if num > 0 :\n",
        "  print(\"positive no.\")\n",
        "else :\n",
        "  print(\"negetive no.\")"
      ],
      "metadata": {
        "colab": {
          "base_uri": "https://localhost:8080/"
        },
        "id": "gImdh15bw7Rz",
        "outputId": "df08254c-e5e2-4c5a-ac3b-24b51e1dbb2c"
      },
      "execution_count": 14,
      "outputs": [
        {
          "output_type": "stream",
          "name": "stdout",
          "text": [
            "enter a no. value :99\n",
            "positive no.\n"
          ]
        }
      ]
    },
    {
      "cell_type": "code",
      "source": [
        "a = int(input(\"enter a no. value :\"))\n",
        "if a % 2 ==0 :\n",
        "  print(\"even no.\")\n",
        "else :\n",
        "  print(\"odd no.\")"
      ],
      "metadata": {
        "colab": {
          "base_uri": "https://localhost:8080/"
        },
        "id": "qjdllS8N0BWz",
        "outputId": "b0ac0800-9115-484f-b662-1103b15b5cde"
      },
      "execution_count": 16,
      "outputs": [
        {
          "output_type": "stream",
          "name": "stdout",
          "text": [
            "enter a no. value :1100\n",
            "even no.\n"
          ]
        }
      ]
    },
    {
      "cell_type": "code",
      "source": [
        " year = int(input(\"enter a year value :\"))\n",
        " if year % 4 ==0 :\n",
        "  print(\"it is leap year\")\n",
        "else :\n",
        "  print(\"it is not a leap year\")"
      ],
      "metadata": {
        "colab": {
          "base_uri": "https://localhost:8080/"
        },
        "id": "lgoE8rJP114O",
        "outputId": "f576407c-9763-4cef-d36f-eb46a83bdf8c"
      },
      "execution_count": 26,
      "outputs": [
        {
          "output_type": "stream",
          "name": "stdout",
          "text": [
            "enter a year value :2026\n",
            "it is not a leap year\n"
          ]
        }
      ]
    },
    {
      "cell_type": "code",
      "source": [
        "age = int(input(\"enter the age :\"))\n",
        "if age >= 18 :\n",
        "  print(\"they are eligeble for voting\")\n",
        "else :\n",
        "  print(\"they have to wait\")"
      ],
      "metadata": {
        "colab": {
          "base_uri": "https://localhost:8080/"
        },
        "id": "U50EudWF4tgj",
        "outputId": "15ad5107-fe48-4d08-b2db-54835d8b4396"
      },
      "execution_count": 30,
      "outputs": [
        {
          "output_type": "stream",
          "name": "stdout",
          "text": [
            "enter the age :17\n",
            "they have to wait\n"
          ]
        }
      ]
    },
    {
      "cell_type": "code",
      "source": [
        "user_id = input(\"enter the email id :\")\n",
        "password = int(input(\"enter the password :\"))\n",
        "if user_id == \"sandesh\" and password == 1234 :\n",
        "  print(\"login successfuly\")\n",
        "else :\n",
        "  print(\"invalid detalis\")"
      ],
      "metadata": {
        "colab": {
          "base_uri": "https://localhost:8080/"
        },
        "id": "E0fzYbGl5tyc",
        "outputId": "f56482fb-e5d6-4b57-8168-f9a47a0c40e2"
      },
      "execution_count": 34,
      "outputs": [
        {
          "output_type": "stream",
          "name": "stdout",
          "text": [
            "enter the email id :sandesh\n",
            "enter the password :1234\n",
            "login successfuly\n"
          ]
        }
      ]
    },
    {
      "cell_type": "code",
      "source": [
        " persentage= int(input(\"enter the persentage :\"))\n",
        "if persentage >= 85 :\n",
        "  print(\"distingtion\")\n",
        "elif persentage >= 70 :\n",
        "  print(\"first class\")\n",
        "elif persentage >= 55 :\n",
        "  print(\"second class\")\n",
        "elif persentage >= 35 :\n",
        "  print(\"just pass\")\n",
        "else :\n",
        "  print(\"fail, better luck next time\")"
      ],
      "metadata": {
        "colab": {
          "base_uri": "https://localhost:8080/"
        },
        "id": "ExNLwkoa9T0D",
        "outputId": "6ad7872e-0041-4240-8b2d-df32f318a87d"
      },
      "execution_count": 37,
      "outputs": [
        {
          "output_type": "stream",
          "name": "stdout",
          "text": [
            "enter the persentage :99\n",
            "distingtion\n"
          ]
        }
      ]
    },
    {
      "cell_type": "code",
      "source": [
        "prize= input(\"enter prize medal :\")\n",
        "if prize == \"gold\" :\n",
        "  print(\"first prize\")\n",
        "elif prize == \"silver\" :\n",
        "  print(\"second prize\")\n",
        "elif prize == \"bronze\" :\n",
        "  print(\"third prize\")\n",
        "elif prize == \"certification\" :\n",
        "  print(\"samadhankar bahumana\")\n",
        "else :\n",
        "  print(\"better luck next time\")"
      ],
      "metadata": {
        "colab": {
          "base_uri": "https://localhost:8080/"
        },
        "id": "t5ssAgRYCJMj",
        "outputId": "d76307d6-03e8-4ecd-a5c7-ed9f9d5a7c93"
      },
      "execution_count": 43,
      "outputs": [
        {
          "output_type": "stream",
          "name": "stdout",
          "text": [
            "enter prize medal :gold\n",
            "first prize\n"
          ]
        }
      ]
    },
    {
      "cell_type": "code",
      "source": [
        "signal = input(\"enter the name of colour :\")\n",
        "if signal == \"red\" :\n",
        "  print(\"stop\")\n",
        "elif signal == \"yellow\" :\n",
        "  print(\"get ready to move\")\n",
        "elif signal == \"green\" :\n",
        "  print(\"gooooooo\")\n",
        "else :\n",
        "  print(\"invalid colour\")"
      ],
      "metadata": {
        "colab": {
          "base_uri": "https://localhost:8080/"
        },
        "id": "Eqgmb4D1FBQr",
        "outputId": "207a1c29-5a29-4ac9-ab5e-4cc3d320f7eb"
      },
      "execution_count": 47,
      "outputs": [
        {
          "output_type": "stream",
          "name": "stdout",
          "text": [
            "enter the name of colour :green\n",
            "gooooooo\n"
          ]
        }
      ]
    }
  ]
}