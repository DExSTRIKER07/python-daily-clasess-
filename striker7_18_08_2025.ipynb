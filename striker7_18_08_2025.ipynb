{
  "nbformat": 4,
  "nbformat_minor": 0,
  "metadata": {
    "colab": {
      "provenance": []
    },
    "kernelspec": {
      "name": "python3",
      "display_name": "Python 3"
    },
    "language_info": {
      "name": "python"
    }
  },
  "cells": [
    {
      "cell_type": "code",
      "execution_count": null,
      "metadata": {
        "colab": {
          "base_uri": "https://localhost:8080/"
        },
        "id": "EwgjpWFt5gSd",
        "outputId": "0263ae24-01b5-4640-8f8c-0856400f4fa0"
      },
      "outputs": [
        {
          "output_type": "stream",
          "name": "stdout",
          "text": [
            "total vowels are :  8\n"
          ]
        }
      ],
      "source": [
        "sentence = \"Kle bk bck college in chikodi\"\n",
        "count = 0\n",
        "for ch in sentence :\n",
        "  if ch in \"aeiou\" :\n",
        "    count += 1\n",
        "print(\"total vowels are : \", count)"
      ]
    },
    {
      "cell_type": "code",
      "source": [
        "sentence = \"python programming language\"\n",
        "count = 0\n",
        "for ch in sentence :\n",
        "  if ch in \"aeiou\" :\n",
        "    count += 1\n",
        "print(\"total vowels are : \", count)"
      ],
      "metadata": {
        "colab": {
          "base_uri": "https://localhost:8080/"
        },
        "id": "WRyxtReE-_Fg",
        "outputId": "52eb7df9-c93d-47bd-a4c1-c23cf6c9b176"
      },
      "execution_count": null,
      "outputs": [
        {
          "output_type": "stream",
          "name": "stdout",
          "text": [
            "total vowels are :  8\n"
          ]
        }
      ]
    },
    {
      "cell_type": "code",
      "source": [
        "base = 4\n",
        "height  = 5\n",
        "tringle = 0.5 * base * height\n",
        "print(\"area of a triangle is : \", tringle)"
      ],
      "metadata": {
        "colab": {
          "base_uri": "https://localhost:8080/"
        },
        "id": "SFsKxgci_YD9",
        "outputId": "74148fc9-97be-4481-d8bc-fd8273595c90"
      },
      "execution_count": null,
      "outputs": [
        {
          "output_type": "stream",
          "name": "stdout",
          "text": [
            "area of a triangle is :  10.0\n"
          ]
        }
      ]
    },
    {
      "cell_type": "code",
      "source": [
        "pi = 3.14\n",
        "radius = 5\n",
        "circle = pi * radius * radius\n",
        "print(\"area of circle is : \", circle)"
      ],
      "metadata": {
        "colab": {
          "base_uri": "https://localhost:8080/"
        },
        "id": "1omEDFlDA2ra",
        "outputId": "008de302-d9f3-408d-b534-4cc143f84d6f"
      },
      "execution_count": null,
      "outputs": [
        {
          "output_type": "stream",
          "name": "stdout",
          "text": [
            "area of circle is :  78.5\n"
          ]
        }
      ]
    },
    {
      "cell_type": "code",
      "source": [
        "ex = [5, 25, 35, 28, 45, 10, 15]\n",
        "lar = ex[0]\n",
        "for num in ex :\n",
        "  if num > lar :\n",
        "    lar = num\n",
        "print(lar, \"is a largest num in this list/. \")\n"
      ],
      "metadata": {
        "colab": {
          "base_uri": "https://localhost:8080/"
        },
        "id": "pjzrHIXIBr1u",
        "outputId": "d79c8da7-12d2-4ab2-be64-4c5ec063b10a"
      },
      "execution_count": null,
      "outputs": [
        {
          "output_type": "stream",
          "name": "stdout",
          "text": [
            "45 is a largest num in this list\n"
          ]
        }
      ]
    },
    {
      "cell_type": "code",
      "source": [
        "a = \"bachelor of computer science first semester section c\"\n",
        "count = 0\n",
        "for ch in a :\n",
        "  if ch in \"bcdfghjklmnpqrstvwxyz\" :\n",
        "    count += 1\n",
        "print(\"total consonents are : \", count)"
      ],
      "metadata": {
        "colab": {
          "base_uri": "https://localhost:8080/"
        },
        "id": "vjnKZOVfHUr7",
        "outputId": "2146fa95-eeeb-4ec3-be24-24bdfb4c6416"
      },
      "execution_count": null,
      "outputs": [
        {
          "output_type": "stream",
          "name": "stdout",
          "text": [
            "total consonents are :  29\n"
          ]
        }
      ]
    },
    {
      "cell_type": "code",
      "source": [
        "colours ={\"purple\", \"pink\",\"black\",\"white\",\"red\",\"orange\",\"gray\",\"yellow\",}\n",
        "for color in colours : if colour == \"black\" :\n",
        "break print(colour)"
      ],
      "metadata": {
        "id": "LWU5Uc6XHDSe",
        "colab": {
          "base_uri": "https://localhost:8080/",
          "height": 106
        },
        "outputId": "9bba73dc-13e2-4116-a637-9342cd65b28c"
      },
      "execution_count": null,
      "outputs": [
        {
          "output_type": "error",
          "ename": "SyntaxError",
          "evalue": "invalid syntax (ipython-input-2827730479.py, line 2)",
          "traceback": [
            "\u001b[0;36m  File \u001b[0;32m\"/tmp/ipython-input-2827730479.py\"\u001b[0;36m, line \u001b[0;32m2\u001b[0m\n\u001b[0;31m    for color in colours : if colour == \"black\" :\u001b[0m\n\u001b[0m                           ^\u001b[0m\n\u001b[0;31mSyntaxError\u001b[0m\u001b[0;31m:\u001b[0m invalid syntax\n"
          ]
        }
      ]
    },
    {
      "cell_type": "code",
      "source": [
        "fruits = (\"apple\",\"orange\",\"mango\",\"dragon fruit\",\"greeps\",\"banana\",\"pinapal\",\"pappaya\",\"water melon \")\n",
        "for fruit in fruits :\n",
        "  if fruit == \"greeps\" :\n",
        "    continue\n",
        "print(fruit)"
      ],
      "metadata": {
        "colab": {
          "base_uri": "https://localhost:8080/"
        },
        "id": "kyiJhxkzegrs",
        "outputId": "9c3fcae5-c999-413e-e20c-95489d1204ff"
      },
      "execution_count": null,
      "outputs": [
        {
          "output_type": "stream",
          "name": "stdout",
          "text": [
            "water melon \n"
          ]
        }
      ]
    },
    {
      "cell_type": "code",
      "source": [],
      "metadata": {
        "id": "GBVyYq3UhBIj"
      },
      "execution_count": null,
      "outputs": []
    },
    {
      "cell_type": "code",
      "source": [
        "mobiles = [\"vivo\",\"redmi\",\"vivo\",\"vivo\",\"oppo\",\"1plus\"]\n",
        "for mobile in mobiles :\n",
        "  if mobile == \"vivo\" :\n",
        "     continue\n",
        "  print(mobile)"
      ],
      "metadata": {
        "colab": {
          "base_uri": "https://localhost:8080/"
        },
        "id": "YJuyzDKKhSkg",
        "outputId": "dee63659-9c65-4ef2-c964-ebbaab895305"
      },
      "execution_count": null,
      "outputs": [
        {
          "output_type": "stream",
          "name": "stdout",
          "text": [
            "redmi\n",
            "oppo\n",
            "1plus\n"
          ]
        }
      ]
    },
    {
      "cell_type": "code",
      "source": [
        "movies =[\"kgf\",\"chhva\",\"bahubali\",\"saiyar\",\"rrr\",\"knnadakagi onendonnu otti\"]\n",
        "for movie in movies :\n",
        "     if movie == \"trance\" :\n",
        "     pass\n",
        "    print(Movie)"
      ],
      "metadata": {
        "colab": {
          "base_uri": "https://localhost:8080/",
          "height": 106
        },
        "id": "fBCiUQJPgH5s",
        "outputId": "aaeda74a-fc74-4844-ee3c-401dc0788d62"
      },
      "execution_count": null,
      "outputs": [
        {
          "output_type": "error",
          "ename": "IndentationError",
          "evalue": "unindent does not match any outer indentation level (<tokenize>, line 5)",
          "traceback": [
            "\u001b[0;36m  File \u001b[0;32m\"<tokenize>\"\u001b[0;36m, line \u001b[0;32m5\u001b[0m\n\u001b[0;31m    print(Movie)\u001b[0m\n\u001b[0m    ^\u001b[0m\n\u001b[0;31mIndentationError\u001b[0m\u001b[0;31m:\u001b[0m unindent does not match any outer indentation level\n"
          ]
        }
      ]
    },
    {
      "cell_type": "code",
      "source": [
        "things = {\"mobile\",\"laptop\",\"tab\",\"book\",\"pen\",\"paper\"}\n",
        "for thing in things :\n",
        "if thing == \"mobile\"\n",
        "    continue\n",
        "  print(thing)"
      ],
      "metadata": {
        "colab": {
          "base_uri": "https://localhost:8080/",
          "height": 106
        },
        "id": "cZvHHZdhl7Aq",
        "outputId": "6aa522ea-10f4-4466-9230-7da4f8d057d4"
      },
      "execution_count": null,
      "outputs": [
        {
          "output_type": "error",
          "ename": "IndentationError",
          "evalue": "unindent does not match any outer indentation level (<tokenize>, line 5)",
          "traceback": [
            "\u001b[0;36m  File \u001b[0;32m\"<tokenize>\"\u001b[0;36m, line \u001b[0;32m5\u001b[0m\n\u001b[0;31m    print(thing)\u001b[0m\n\u001b[0m    ^\u001b[0m\n\u001b[0;31mIndentationError\u001b[0m\u001b[0;31m:\u001b[0m unindent does not match any outer indentation level\n"
          ]
        }
      ]
    },
    {
      "cell_type": "code",
      "source": [
        "for i in range (1,10) :\n",
        " for j in range(i) :\n",
        "                        print(j,end=\" \")"
      ],
      "metadata": {
        "colab": {
          "base_uri": "https://localhost:8080/"
        },
        "id": "QZadihmfqinH",
        "outputId": "594dbb5a-5af0-45fd-f9f9-1981caf19314"
      },
      "execution_count": null,
      "outputs": [
        {
          "output_type": "stream",
          "name": "stdout",
          "text": [
            "0 0 1 0 1 2 0 1 2 3 0 1 2 3 4 0 1 2 3 4 5 0 1 2 3 4 5 6 0 1 2 3 4 5 6 7 0 1 2 3 4 5 6 7 8 "
          ]
        }
      ]
    }
  ]
}