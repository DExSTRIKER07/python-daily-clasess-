{
  "nbformat": 4,
  "nbformat_minor": 0,
  "metadata": {
    "colab": {
      "provenance": []
    },
    "kernelspec": {
      "name": "python3",
      "display_name": "Python 3"
    },
    "language_info": {
      "name": "python"
    }
  },
  "cells": [
    {
      "cell_type": "code",
      "execution_count": null,
      "metadata": {
        "colab": {
          "base_uri": "https://localhost:8080/"
        },
        "id": "IbaSOcz48ODg",
        "outputId": "aa60140d-6d48-4f7c-d1e0-2b9d61be2029"
      },
      "outputs": [
        {
          "output_type": "stream",
          "name": "stdout",
          "text": [
            "6\n"
          ]
        }
      ],
      "source": [
        "# Address = 212\n",
        "print(3+3)"
      ]
    },
    {
      "cell_type": "code",
      "source": [
        "example = (1,\"Sharath\",3.12,False,1)\n",
        "print(example)\n",
        "print(len(example))\n",
        "print(type(example))\n",
        "print(example.count(1))\n",
        "print(example[0:3])\n",
        "print(example[3])\n",
        "print(example[-1])\n",
        "print(example[::-1])"
      ],
      "metadata": {
        "colab": {
          "base_uri": "https://localhost:8080/"
        },
        "id": "yO1yv7lb8Zkw",
        "outputId": "edda5dea-a504-4ea9-c702-bc027f327556"
      },
      "execution_count": null,
      "outputs": [
        {
          "output_type": "stream",
          "name": "stdout",
          "text": [
            "(1, 'Sharath', 3.12, False, 1)\n",
            "5\n",
            "<class 'tuple'>\n",
            "2\n",
            "(1, 'Sharath', 3.12)\n",
            "False\n",
            "1\n",
            "(1, False, 3.12, 'Sharath', 1)\n"
          ]
        }
      ]
    },
    {
      "cell_type": "code",
      "source": [
        "Number = (2,4,7,9,3,9,3,2)\n",
        "print(Number)\n",
        "Add = (2,4,5,7)\n",
        "print(Number + Add)\n",
        "print(Add * 4)\n",
        "print ()"
      ],
      "metadata": {
        "colab": {
          "base_uri": "https://localhost:8080/"
        },
        "id": "tlhz0Fi08iWA",
        "outputId": "b74f2b3d-280d-44b5-cd15-cb9652d20370"
      },
      "execution_count": null,
      "outputs": [
        {
          "output_type": "stream",
          "name": "stdout",
          "text": [
            "(2, 4, 7, 9, 3, 9, 3, 2)\n",
            "(2, 4, 7, 9, 3, 9, 3, 2, 2, 4, 5, 7)\n",
            "(2, 4, 5, 7, 2, 4, 5, 7, 2, 4, 5, 7, 2, 4, 5, 7)\n",
            "\n"
          ]
        }
      ]
    },
    {
      "cell_type": "code",
      "source": [
        "first = {1,2,3,4,4,2}\n",
        "second = {3,5,4,6}\n",
        "print( first | second )\n",
        "print(first.union(second))\n",
        "print(first & second)\n",
        "print(first.intersection(second))\n",
        "print(first.difference(second))\n",
        "print(first - second)\n",
        "print(second - first)"
      ],
      "metadata": {
        "colab": {
          "base_uri": "https://localhost:8080/"
        },
        "id": "mJ3A3EPG8tuw",
        "outputId": "cef1d4ea-d652-4775-9fe9-b229b91dcb36"
      },
      "execution_count": null,
      "outputs": [
        {
          "output_type": "stream",
          "name": "stdout",
          "text": [
            "{1, 2, 3, 4, 5, 6}\n",
            "{1, 2, 3, 4, 5, 6}\n",
            "{3, 4}\n",
            "{3, 4}\n",
            "{1, 2}\n",
            "{1, 2}\n",
            "{5, 6}\n"
          ]
        }
      ]
    },
    {
      "cell_type": "code",
      "source": [
        "Dict = {\"Roll_number\" : 201,\n",
        "        \"Name\"        : \"Sandesh\",\n",
        "        \"Address\"     : \"Hebbal\",\n",
        "        \"Course\"      : \"BCA\",\n",
        "        \"CGPA\"        : 9.99,\n",
        "        \"Year\"        : 2025\n",
        "}\n",
        "print(Dict)\n",
        "print(len(Dict))\n",
        "Dict[\"Gender\"] = \"Male\"\n",
        "print(Dict)\n",
        "Dict[\"Mobile_No\"] = 989898989\n",
        "print(Dict)\n",
        "Dict[\"College\"] = \"BK\"\n",
        "print(Dict)\n",
        "Dict[\"PU College\"] = \" RLS\"\n",
        "print(Dict)\n",
        "del Dict[\"Gender\"]\n",
        "print(Dict)\n",
        "Dict[\"Gender\"] = \"Male\"\n",
        "print(Dict)\n",
        "print(Dict[\"College\"])\n",
        "print(Dict.keys())\n",
        "print(Dict.values())\n",
        "print(Dict.items())\n",
        "print(Dict.clear())"
      ],
      "metadata": {
        "colab": {
          "base_uri": "https://localhost:8080/"
        },
        "id": "p_gNYEkb9Bth",
        "outputId": "db9cbeb3-552e-4963-9609-4ffc3b4bc289"
      },
      "execution_count": null,
      "outputs": [
        {
          "output_type": "stream",
          "name": "stdout",
          "text": [
            "{'Roll_number': 201, 'Name': 'Sandesh', 'Address': 'Hebbal', 'Course': 'BCA', 'CGPA': 9.99, 'Year': 2025}\n",
            "6\n",
            "{'Roll_number': 201, 'Name': 'Sandesh', 'Address': 'Hebbal', 'Course': 'BCA', 'CGPA': 9.99, 'Year': 2025, 'Gender': 'Male'}\n",
            "{'Roll_number': 201, 'Name': 'Sandesh', 'Address': 'Hebbal', 'Course': 'BCA', 'CGPA': 9.99, 'Year': 2025, 'Gender': 'Male', 'Mobile_No': 989898989}\n",
            "{'Roll_number': 201, 'Name': 'Sandesh', 'Address': 'Hebbal', 'Course': 'BCA', 'CGPA': 9.99, 'Year': 2025, 'Gender': 'Male', 'Mobile_No': 989898989, 'College': 'BK'}\n",
            "{'Roll_number': 201, 'Name': 'Sandesh', 'Address': 'Hebbal', 'Course': 'BCA', 'CGPA': 9.99, 'Year': 2025, 'Gender': 'Male', 'Mobile_No': 989898989, 'College': 'BK', 'PU College': ' RLS'}\n",
            "{'Roll_number': 201, 'Name': 'Sandesh', 'Address': 'Hebbal', 'Course': 'BCA', 'CGPA': 9.99, 'Year': 2025, 'Mobile_No': 989898989, 'College': 'BK', 'PU College': ' RLS'}\n",
            "{'Roll_number': 201, 'Name': 'Sandesh', 'Address': 'Hebbal', 'Course': 'BCA', 'CGPA': 9.99, 'Year': 2025, 'Mobile_No': 989898989, 'College': 'BK', 'PU College': ' RLS', 'Gender': 'Male'}\n",
            "BK\n",
            "dict_keys(['Roll_number', 'Name', 'Address', 'Course', 'CGPA', 'Year', 'Mobile_No', 'College', 'PU College', 'Gender'])\n",
            "dict_values([201, 'Sandesh', 'Hebbal', 'BCA', 9.99, 2025, 989898989, 'BK', ' RLS', 'Male'])\n",
            "dict_items([('Roll_number', 201), ('Name', 'Sandesh'), ('Address', 'Hebbal'), ('Course', 'BCA'), ('CGPA', 9.99), ('Year', 2025), ('Mobile_No', 989898989), ('College', 'BK'), ('PU College', ' RLS'), ('Gender', 'Male')])\n",
            "None\n"
          ]
        }
      ]
    },
    {
      "cell_type": "code",
      "source": [
        "Employe = {\"Employe_Id\"         : 1001,\n",
        "           \"Employe_Name\"       : \"Prajwal\",\n",
        "           \"Contect_number\"    : 9071326037,\n",
        "           \"Salary\"              : 20000,\n",
        "           \"Email_id\"           : \"Prk12@gmail.com\",\n",
        "           \"Company\"            : \"Apple\",\n",
        "           \"Empolye_Habbit\"     : \"Gameing\"\n",
        "}\n",
        "print(Employe)\n",
        "Employe[\"Contry\"] = \"India\"\n",
        "print(Employe)\n",
        "Employe[\"Pincode\"] = 123456\n",
        "print(Employe)\n",
        "print(len(Employe))\n",
        "Employe[\"Depertment\"] = \"developer\"\n",
        "print(Employe)\n",
        "print(Employe[\"Salary\"])\n",
        "print(Employe[\"Email_id\"])\n",
        "print(len(Employe))\n",
        "Employe[\"Deprement\"] = \"Testing\"\n",
        "print(Employe.keys())\n",
        "print(Employe.popitem())\n",
        "print(Employe)"
      ],
      "metadata": {
        "colab": {
          "base_uri": "https://localhost:8080/"
        },
        "id": "d-uMnmxq94nK",
        "outputId": "b5cd3b8d-2f84-42cd-b2db-9c4c7a6fa18f"
      },
      "execution_count": null,
      "outputs": [
        {
          "output_type": "stream",
          "name": "stdout",
          "text": [
            "{'Employe_Id': 1001, 'Employe_Name': 'Prajwal', 'Contect_number': 9071326037, 'Salary': 20000, 'Email_id': 'Prk12@gmail.com', 'Company': 'Apple', 'Empolye_Habbit': 'Gameing'}\n",
            "{'Employe_Id': 1001, 'Employe_Name': 'Prajwal', 'Contect_number': 9071326037, 'Salary': 20000, 'Email_id': 'Prk12@gmail.com', 'Company': 'Apple', 'Empolye_Habbit': 'Gameing', 'Contry': 'India'}\n",
            "{'Employe_Id': 1001, 'Employe_Name': 'Prajwal', 'Contect_number': 9071326037, 'Salary': 20000, 'Email_id': 'Prk12@gmail.com', 'Company': 'Apple', 'Empolye_Habbit': 'Gameing', 'Contry': 'India', 'Pincode': 123456}\n",
            "9\n",
            "{'Employe_Id': 1001, 'Employe_Name': 'Prajwal', 'Contect_number': 9071326037, 'Salary': 20000, 'Email_id': 'Prk12@gmail.com', 'Company': 'Apple', 'Empolye_Habbit': 'Gameing', 'Contry': 'India', 'Pincode': 123456, 'Depertment': 'developer'}\n",
            "20000\n",
            "Prk12@gmail.com\n",
            "10\n",
            "dict_keys(['Employe_Id', 'Employe_Name', 'Contect_number', 'Salary', 'Email_id', 'Company', 'Empolye_Habbit', 'Contry', 'Pincode', 'Depertment', 'Deprement'])\n",
            "('Deprement', 'Testing')\n",
            "{'Employe_Id': 1001, 'Employe_Name': 'Prajwal', 'Contect_number': 9071326037, 'Salary': 20000, 'Email_id': 'Prk12@gmail.com', 'Company': 'Apple', 'Empolye_Habbit': 'Gameing', 'Contry': 'India', 'Pincode': 123456, 'Depertment': 'developer'}\n"
          ]
        }
      ]
    },
    {
      "cell_type": "code",
      "source": [
        "a = 10\n",
        "b = 3\n",
        "c = a / b\n",
        "print(type(a))\n",
        "print(type(b))\n",
        "print(type(c))\n",
        "\n",
        "print(type(a / b))\n",
        "\n",
        "print(c)"
      ],
      "metadata": {
        "colab": {
          "base_uri": "https://localhost:8080/"
        },
        "id": "Qwdj9YKif3N-",
        "outputId": "f59adffd-dcd6-4bd3-e218-684de87741ee"
      },
      "execution_count": null,
      "outputs": [
        {
          "output_type": "stream",
          "name": "stdout",
          "text": [
            "<class 'int'>\n",
            "<class 'int'>\n",
            "<class 'float'>\n",
            "<class 'float'>\n",
            "3.3333333333333335\n"
          ]
        }
      ]
    },
    {
      "cell_type": "code",
      "source": [
        "i = 20\n",
        "j = 5.5\n",
        "k = i + j\n",
        "print(type(k))"
      ],
      "metadata": {
        "colab": {
          "base_uri": "https://localhost:8080/"
        },
        "id": "ws-QsQNkggGu",
        "outputId": "bd97de17-ec16-4a55-ddca-207c5f4f5ac5"
      },
      "execution_count": null,
      "outputs": [
        {
          "output_type": "stream",
          "name": "stdout",
          "text": [
            "<class 'float'>\n"
          ]
        }
      ]
    },
    {
      "cell_type": "code",
      "source": [
        "a = 49\n",
        "b = 7\n",
        "print(type(a / b))"
      ],
      "metadata": {
        "colab": {
          "base_uri": "https://localhost:8080/"
        },
        "id": "BWOjDcOXhL3-",
        "outputId": "0bc78ed4-e229-4301-a871-e734cbc03e43"
      },
      "execution_count": null,
      "outputs": [
        {
          "output_type": "stream",
          "name": "stdout",
          "text": [
            "<class 'float'>\n"
          ]
        }
      ]
    },
    {
      "cell_type": "code",
      "source": [
        "i = True\n",
        "print(type(i))\n",
        "j = 5\n",
        "print(type(i + j))"
      ],
      "metadata": {
        "colab": {
          "base_uri": "https://localhost:8080/"
        },
        "id": "dtrXFSZghJwO",
        "outputId": "83b21871-061f-4dc0-f5ae-b312b18de9b9"
      },
      "execution_count": null,
      "outputs": [
        {
          "output_type": "stream",
          "name": "stdout",
          "text": [
            "<class 'bool'>\n",
            "<class 'int'>\n"
          ]
        }
      ]
    },
    {
      "cell_type": "code",
      "source": [
        "m = 2.9\n",
        "n = False\n",
        "o = m - n\n",
        "print(type(o))"
      ],
      "metadata": {
        "colab": {
          "base_uri": "https://localhost:8080/"
        },
        "id": "9c3r2Os7iiXN",
        "outputId": "8204825d-4fb3-42d6-de9a-9000f6085de4"
      },
      "execution_count": null,
      "outputs": [
        {
          "output_type": "stream",
          "name": "stdout",
          "text": [
            "<class 'float'>\n"
          ]
        }
      ]
    },
    {
      "cell_type": "code",
      "source": [
        "p = True\n",
        "q = False\n",
        "r = p + q\n",
        "print(type(r))"
      ],
      "metadata": {
        "colab": {
          "base_uri": "https://localhost:8080/"
        },
        "id": "iTsO1oF4i6_t",
        "outputId": "6792f7c8-cb19-4e6f-8bbe-ffac800a3005"
      },
      "execution_count": null,
      "outputs": [
        {
          "output_type": "stream",
          "name": "stdout",
          "text": [
            "<class 'int'>\n"
          ]
        }
      ]
    },
    {
      "cell_type": "code",
      "source": [
        "n = 3.12\n",
        "print(type(n))\n",
        "add = int(n)\n",
        "print(type(add))\n",
        "mul = float(add)\n",
        "print(type(mul))"
      ],
      "metadata": {
        "colab": {
          "base_uri": "https://localhost:8080/"
        },
        "id": "aG4EsvrbkCK-",
        "outputId": "4d3397ae-7e22-401f-ef66-c4d0bbd01cb8"
      },
      "execution_count": null,
      "outputs": [
        {
          "output_type": "stream",
          "name": "stdout",
          "text": [
            "<class 'float'>\n",
            "<class 'int'>\n",
            "<class 'float'>\n"
          ]
        }
      ]
    },
    {
      "cell_type": "code",
      "source": [
        "Num =\"101\"\n",
        "print(type(Num))\n",
        "add = int(Num)\n",
        "print(type(add))"
      ],
      "metadata": {
        "colab": {
          "base_uri": "https://localhost:8080/"
        },
        "id": "ST1gXJrLlxSF",
        "outputId": "7b08e6b8-d6ce-42d0-f303-ad83f1f812c7"
      },
      "execution_count": null,
      "outputs": [
        {
          "output_type": "stream",
          "name": "stdout",
          "text": [
            "<class 'str'>\n",
            "<class 'int'>\n"
          ]
        }
      ]
    },
    {
      "cell_type": "code",
      "source": [
        "a = True\n",
        "print(type(a))\n",
        "\n",
        "b = int(a)\n",
        "print(type(b))"
      ],
      "metadata": {
        "colab": {
          "base_uri": "https://localhost:8080/"
        },
        "id": "lvSbQBhMncI-",
        "outputId": "e51af806-05e1-4019-dd71-f08507648b0a"
      },
      "execution_count": null,
      "outputs": [
        {
          "output_type": "stream",
          "name": "stdout",
          "text": [
            "<class 'bool'>\n",
            "<class 'int'>\n"
          ]
        }
      ]
    },
    {
      "cell_type": "code",
      "source": [
        "a = 5\n",
        "print(type(a))\n",
        "b = str(a)\n",
        "print(type(b))"
      ],
      "metadata": {
        "colab": {
          "base_uri": "https://localhost:8080/"
        },
        "id": "q1rnoRcBouTM",
        "outputId": "aa346da8-516b-4f79-b90e-edfcf24796fa"
      },
      "execution_count": null,
      "outputs": [
        {
          "output_type": "stream",
          "name": "stdout",
          "text": [
            "<class 'int'>\n",
            "<class 'str'>\n"
          ]
        }
      ]
    },
    {
      "cell_type": "code",
      "source": [
        "a = 5\n",
        "print(type(a))\n",
        "b = bool(a)\n",
        "print(type(b))"
      ],
      "metadata": {
        "colab": {
          "base_uri": "https://localhost:8080/"
        },
        "id": "-4o8_CP6pNcg",
        "outputId": "baa22185-9b1c-42b5-c425-7fff6019134f"
      },
      "execution_count": null,
      "outputs": [
        {
          "output_type": "stream",
          "name": "stdout",
          "text": [
            "<class 'int'>\n",
            "<class 'bool'>\n"
          ]
        }
      ]
    },
    {
      "cell_type": "code",
      "source": [
        "a = 5.57\n",
        "print(type(a))\n",
        "b = str(a)\n",
        "print(type(b))"
      ],
      "metadata": {
        "colab": {
          "base_uri": "https://localhost:8080/"
        },
        "id": "NRkZ5qufpwrk",
        "outputId": "466e28f6-b42e-43ec-c413-f21a9d9bd0df"
      },
      "execution_count": null,
      "outputs": [
        {
          "output_type": "stream",
          "name": "stdout",
          "text": [
            "<class 'float'>\n",
            "<class 'str'>\n"
          ]
        }
      ]
    },
    {
      "cell_type": "code",
      "source": [
        "a = 9.99\n",
        "print(type(a))\n",
        "\n",
        "print(type(bool(a)))"
      ],
      "metadata": {
        "colab": {
          "base_uri": "https://localhost:8080/"
        },
        "id": "FO-WAeS-qf42",
        "outputId": "8a1b2866-019d-41d2-b0a7-0fbfc91d504c"
      },
      "execution_count": null,
      "outputs": [
        {
          "output_type": "stream",
          "name": "stdout",
          "text": [
            "<class 'float'>\n",
            "<class 'bool'>\n"
          ]
        }
      ]
    },
    {
      "cell_type": "code",
      "source": [
        "a = False\n",
        "print(type(a))\n",
        "\n",
        "print(type(str(a)))"
      ],
      "metadata": {
        "colab": {
          "base_uri": "https://localhost:8080/"
        },
        "id": "4m3N0U9nq54t",
        "outputId": "e44616e0-30ae-41bd-b216-77cdd880fe8d"
      },
      "execution_count": null,
      "outputs": [
        {
          "output_type": "stream",
          "name": "stdout",
          "text": [
            "<class 'bool'>\n",
            "<class 'str'>\n"
          ]
        }
      ]
    },
    {
      "cell_type": "code",
      "source": [
        "a = False\n",
        "print(type(a))\n",
        "\n",
        "print(type(float(a)) )"
      ],
      "metadata": {
        "colab": {
          "base_uri": "https://localhost:8080/"
        },
        "id": "8DzG2nyVrXG0",
        "outputId": "875ad909-5ab4-4588-90b1-17897a3178fd"
      },
      "execution_count": null,
      "outputs": [
        {
          "output_type": "stream",
          "name": "stdout",
          "text": [
            "<class 'bool'>\n",
            "<class 'float'>\n"
          ]
        }
      ]
    },
    {
      "cell_type": "code",
      "source": [
        "a = \"1121\"\n",
        "print(type(a))\n",
        "print(type(float(a)))"
      ],
      "metadata": {
        "colab": {
          "base_uri": "https://localhost:8080/"
        },
        "id": "zBbzP9oru4vE",
        "outputId": "9c3516f7-28df-478a-bccf-7b04634529b1"
      },
      "execution_count": null,
      "outputs": [
        {
          "output_type": "stream",
          "name": "stdout",
          "text": [
            "<class 'str'>\n",
            "<class 'float'>\n"
          ]
        }
      ]
    },
    {
      "cell_type": "code",
      "source": [
        "a = \"1121\"\n",
        "print(type(a))\n",
        "print(type(list(a)))"
      ],
      "metadata": {
        "colab": {
          "base_uri": "https://localhost:8080/"
        },
        "id": "O-QTIHHevptV",
        "outputId": "357e1802-7a8e-452f-e126-0ef6cfb0625a"
      },
      "execution_count": null,
      "outputs": [
        {
          "output_type": "stream",
          "name": "stdout",
          "text": [
            "<class 'str'>\n",
            "<class 'list'>\n"
          ]
        }
      ]
    },
    {
      "cell_type": "code",
      "source": [
        "a = (10, 20, 30)\n",
        "print(type(a))\n",
        "\n",
        "print(type(list(a)))"
      ],
      "metadata": {
        "colab": {
          "base_uri": "https://localhost:8080/"
        },
        "id": "Yk3VP8nyvpls",
        "outputId": "1d96345a-821b-4453-c322-6354fa4719be"
      },
      "execution_count": null,
      "outputs": [
        {
          "output_type": "stream",
          "name": "stdout",
          "text": [
            "<class 'tuple'>\n",
            "<class 'list'>\n"
          ]
        }
      ]
    },
    {
      "cell_type": "code",
      "source": [
        " a = [10, 20, 30]\n",
        " print(type(a))\n",
        " print(type(tuple(a)))"
      ],
      "metadata": {
        "colab": {
          "base_uri": "https://localhost:8080/"
        },
        "id": "6inseciEwohr",
        "outputId": "b74f915f-7878-4b77-b04b-383087059176"
      },
      "execution_count": null,
      "outputs": [
        {
          "output_type": "stream",
          "name": "stdout",
          "text": [
            "<class 'list'>\n",
            "<class 'tuple'>\n"
          ]
        }
      ]
    },
    {
      "cell_type": "code",
      "source": [
        "a = {\"name\" : \"sandesh\",\n",
        "     \"roolno\" : 12}\n",
        "print(type(a))\n",
        "\n",
        "print(type(list(a)))"
      ],
      "metadata": {
        "colab": {
          "base_uri": "https://localhost:8080/"
        },
        "id": "pOImz04UxNcj",
        "outputId": "deba94d5-bdb0-41d9-979c-8a77c32161bd"
      },
      "execution_count": null,
      "outputs": [
        {
          "output_type": "stream",
          "name": "stdout",
          "text": [
            "<class 'dict'>\n",
            "<class 'list'>\n"
          ]
        }
      ]
    },
    {
      "cell_type": "code",
      "source": [
        "a = {1, 2, 3}\n",
        "print(type(a))\n",
        "\n",
        "print(type(list(a)))"
      ],
      "metadata": {
        "colab": {
          "base_uri": "https://localhost:8080/"
        },
        "id": "w42Cs-TVx7n7",
        "outputId": "6ac768c5-5ddc-41fc-fb13-0cea3df34d3f"
      },
      "execution_count": null,
      "outputs": [
        {
          "output_type": "stream",
          "name": "stdout",
          "text": [
            "<class 'set'>\n",
            "<class 'list'>\n"
          ]
        }
      ]
    },
    {
      "cell_type": "code",
      "source": [
        "a = \"10\"\n",
        "print(type(a))\n",
        "\n",
        "print(type(tuple(a)))"
      ],
      "metadata": {
        "colab": {
          "base_uri": "https://localhost:8080/"
        },
        "id": "iehGSwKEyV4D",
        "outputId": "a193e7ad-5599-4bf1-e462-af50165adb4e"
      },
      "execution_count": null,
      "outputs": [
        {
          "output_type": "stream",
          "name": "stdout",
          "text": [
            "<class 'str'>\n",
            "<class 'tuple'>\n"
          ]
        }
      ]
    },
    {
      "cell_type": "code",
      "source": [
        "a = {1, 2, 3}\n",
        "print(type(a))\n",
        "\n",
        "print(type(tuple(a)))"
      ],
      "metadata": {
        "colab": {
          "base_uri": "https://localhost:8080/"
        },
        "id": "YNhFCo-tyx5L",
        "outputId": "f755f7bb-f4d8-4edc-bf18-23b4eee47bc7"
      },
      "execution_count": null,
      "outputs": [
        {
          "output_type": "stream",
          "name": "stdout",
          "text": [
            "<class 'set'>\n",
            "<class 'tuple'>\n"
          ]
        }
      ]
    },
    {
      "cell_type": "code",
      "source": [
        "a = [1, 2, 3]\n",
        "print(type(a))\n",
        "\n",
        "print(type(tuple(a)))"
      ],
      "metadata": {
        "colab": {
          "base_uri": "https://localhost:8080/"
        },
        "id": "HjJ2GoKSzBty",
        "outputId": "63499f59-d1d0-4f29-8c63-c13b00a1b660"
      },
      "execution_count": null,
      "outputs": [
        {
          "output_type": "stream",
          "name": "stdout",
          "text": [
            "<class 'list'>\n",
            "<class 'tuple'>\n"
          ]
        }
      ]
    },
    {
      "cell_type": "code",
      "source": [
        "a = {\"name\" : \"sandesh\",\n",
        "     \"roolno\" : 12}\n",
        "print(type(a))\n",
        "\n",
        "print(type(tuple(a)))"
      ],
      "metadata": {
        "colab": {
          "base_uri": "https://localhost:8080/"
        },
        "id": "LJaU-0LazWbr",
        "outputId": "a8069dcc-64d0-46be-c5ef-f1e0b230d4d7"
      },
      "execution_count": null,
      "outputs": [
        {
          "output_type": "stream",
          "name": "stdout",
          "text": [
            "<class 'dict'>\n",
            "<class 'tuple'>\n"
          ]
        }
      ]
    },
    {
      "cell_type": "code",
      "source": [
        "a = \"10\"\n",
        "print(type(a))\n",
        "\n",
        "print(type(set(a)))"
      ],
      "metadata": {
        "colab": {
          "base_uri": "https://localhost:8080/"
        },
        "id": "eAf8lRqwz616",
        "outputId": "a6e0b472-0374-4daa-a179-4ead7834f814"
      },
      "execution_count": null,
      "outputs": [
        {
          "output_type": "stream",
          "name": "stdout",
          "text": [
            "<class 'str'>\n",
            "<class 'set'>\n"
          ]
        }
      ]
    },
    {
      "cell_type": "code",
      "source": [
        "a = {\"s\" : 32,\n",
        "     \"g\" : \"k\"}\n",
        "print(type(a))\n",
        "print(type((a)))"
      ],
      "metadata": {
        "colab": {
          "base_uri": "https://localhost:8080/"
        },
        "id": "BXkJWmNc1NkK",
        "outputId": "ef2838eb-4e70-460c-fe88-a25d4b11267f"
      },
      "execution_count": 1,
      "outputs": [
        {
          "output_type": "stream",
          "name": "stdout",
          "text": [
            "<class 'dict'>\n",
            "<class 'dict'>\n"
          ]
        }
      ]
    },
    {
      "cell_type": "code",
      "source": [
        "a = 10\n",
        "b = 20\n",
        "print(\"before swaping\")\n",
        "print(\"a =\",a,\"b =\",b)\n",
        "\n",
        "print(\"===============\")\n",
        "print(\"after swapiung\")\n",
        "temp = a\n",
        "a = b\n",
        "b = temp\n",
        "print(\"a =\",a,\"b =\",b)"
      ],
      "metadata": {
        "colab": {
          "base_uri": "https://localhost:8080/"
        },
        "id": "7aWjNt4m8Q-o",
        "outputId": "34360d8f-644b-4b0b-8ab7-36a8e33a2afa"
      },
      "execution_count": 3,
      "outputs": [
        {
          "output_type": "stream",
          "name": "stdout",
          "text": [
            "before swaping\n",
            "a = 10 b = 20\n",
            "===============\n",
            "after swapiung\n",
            "a = 20 b = 10\n"
          ]
        }
      ]
    },
    {
      "cell_type": "code",
      "source": [
        "x = 10\n",
        "y = 20\n",
        "print(\"before swaping\")\n",
        "print(\"x =\",x,\"y =\",y)\n",
        "print(\"after swaping\")\n",
        "x = x + y\n",
        "y = x - y\n",
        "x = x - y\n",
        "print(\"x =\",x,\"y =\",y)"
      ],
      "metadata": {
        "colab": {
          "base_uri": "https://localhost:8080/"
        },
        "id": "V7FbVNn0BkDL",
        "outputId": "9836104f-b3b7-4ce8-8d5c-4c8a52785911"
      },
      "execution_count": 5,
      "outputs": [
        {
          "output_type": "stream",
          "name": "stdout",
          "text": [
            "before swaping\n",
            "x = 10 y = 20\n",
            "after swaping\n",
            "x = 20 y = 10\n"
          ]
        }
      ]
    }
  ]
}