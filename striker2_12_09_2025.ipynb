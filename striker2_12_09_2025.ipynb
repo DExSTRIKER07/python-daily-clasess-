{
  "nbformat": 4,
  "nbformat_minor": 0,
  "metadata": {
    "colab": {
      "provenance": []
    },
    "kernelspec": {
      "name": "python3",
      "display_name": "Python 3"
    },
    "language_info": {
      "name": "python"
    }
  },
  "cells": [
    {
      "cell_type": "code",
      "execution_count": null,
      "metadata": {
        "colab": {
          "base_uri": "https://localhost:8080/"
        },
        "id": "XVqwXdJNp6AO",
        "outputId": "f977f678-fde4-4c00-8447-b8104b05f30c"
      },
      "outputs": [
        {
          "output_type": "stream",
          "name": "stdout",
          "text": [
            " Hello world\n"
          ]
        }
      ],
      "source": [
        "print(\" Hello world\")"
      ]
    },
    {
      "cell_type": "code",
      "source": [
        "print(\"Good morning\")"
      ],
      "metadata": {
        "colab": {
          "base_uri": "https://localhost:8080/"
        },
        "id": "FabwLGvor_sx",
        "outputId": "a90add19-c9ed-46aa-c503-7002ffa3d106"
      },
      "execution_count": null,
      "outputs": [
        {
          "output_type": "stream",
          "name": "stdout",
          "text": [
            "Good morning\n"
          ]
        }
      ]
    },
    {
      "cell_type": "code",
      "source": [
        "print(\"Sandesh\")"
      ],
      "metadata": {
        "colab": {
          "base_uri": "https://localhost:8080/"
        },
        "id": "iA-88Ss5sIfp",
        "outputId": "f41f0d69-93d9-45fe-96f6-27bc36380b21"
      },
      "execution_count": null,
      "outputs": [
        {
          "output_type": "stream",
          "name": "stdout",
          "text": [
            "Sandesh\n"
          ]
        }
      ]
    },
    {
      "cell_type": "code",
      "source": [
        "print(\"KLE'S BK college of BBA & BCA , CHIKODI\")"
      ],
      "metadata": {
        "colab": {
          "base_uri": "https://localhost:8080/"
        },
        "id": "p0nCaOMgsTmJ",
        "outputId": "1cb43b58-0808-4e2a-ba51-77030b3dc271"
      },
      "execution_count": null,
      "outputs": [
        {
          "output_type": "stream",
          "name": "stdout",
          "text": [
            "KLE'S BK college of BBA & BCA , CHIKODI\n"
          ]
        }
      ]
    },
    {
      "cell_type": "code",
      "source": [
        "print(5+5)"
      ],
      "metadata": {
        "colab": {
          "base_uri": "https://localhost:8080/"
        },
        "id": "TQc7j-s4tS2q",
        "outputId": "aad0c09b-b355-400e-ad0e-61ae719548a7"
      },
      "execution_count": null,
      "outputs": [
        {
          "output_type": "stream",
          "name": "stdout",
          "text": [
            "10\n"
          ]
        }
      ]
    },
    {
      "cell_type": "code",
      "source": [
        "a=10\n",
        "print(a)"
      ],
      "metadata": {
        "colab": {
          "base_uri": "https://localhost:8080/"
        },
        "id": "UgGluv65HOX9",
        "outputId": "5b274f3d-3f89-4a1f-a7c8-a3e27f0e6d2b"
      },
      "execution_count": 1,
      "outputs": [
        {
          "output_type": "stream",
          "name": "stdout",
          "text": [
            "10\n"
          ]
        }
      ]
    },
    {
      "cell_type": "code",
      "source": [
        "print(\" Hello world \\n \"*3)"
      ],
      "metadata": {
        "colab": {
          "base_uri": "https://localhost:8080/"
        },
        "id": "OBiFNdrIIW5n",
        "outputId": "7d34018c-42a0-42e8-a4d7-3189474b2483"
      },
      "execution_count": 11,
      "outputs": [
        {
          "output_type": "stream",
          "name": "stdout",
          "text": [
            " Hello world \n",
            "  Hello world \n",
            "  Hello world \n",
            " \n"
          ]
        }
      ]
    },
    {
      "cell_type": "code",
      "source": [
        "print(100/3)"
      ],
      "metadata": {
        "colab": {
          "base_uri": "https://localhost:8080/"
        },
        "id": "wA37e6yWI6jH",
        "outputId": "d610d312-4fd4-4c25-9359-e956e4d5b092"
      },
      "execution_count": 7,
      "outputs": [
        {
          "output_type": "stream",
          "name": "stdout",
          "text": [
            "33.333333333333336\n"
          ]
        }
      ]
    },
    {
      "cell_type": "code",
      "source": [
        "print(\"python programing language \\n\" *5)"
      ],
      "metadata": {
        "colab": {
          "base_uri": "https://localhost:8080/"
        },
        "id": "SdrgEeaYJXRF",
        "outputId": "6de0e262-bd3d-48d4-febf-3b656e7d64ec"
      },
      "execution_count": 9,
      "outputs": [
        {
          "output_type": "stream",
          "name": "stdout",
          "text": [
            "python programing language \n",
            "python programing language \n",
            "python programing language \n",
            "python programing language \n",
            "python programing language \n",
            "\n"
          ]
        }
      ]
    },
    {
      "cell_type": "code",
      "source": [
        "print(\"Hello\" + \"world\")"
      ],
      "metadata": {
        "colab": {
          "base_uri": "https://localhost:8080/"
        },
        "id": "pMBeStF7L4fl",
        "outputId": "7e123824-d3c1-4cbf-8ab4-7df69aa95e76"
      },
      "execution_count": 14,
      "outputs": [
        {
          "output_type": "stream",
          "name": "stdout",
          "text": [
            "Helloworld\n"
          ]
        }
      ]
    },
    {
      "cell_type": "code",
      "source": [
        "print (\"Good morning\\n \" *10)"
      ],
      "metadata": {
        "colab": {
          "base_uri": "https://localhost:8080/"
        },
        "id": "IfwFtjLlMuEl",
        "outputId": "b4e0467f-5d17-492a-82b2-de508b639bf4"
      },
      "execution_count": 22,
      "outputs": [
        {
          "output_type": "stream",
          "name": "stdout",
          "text": [
            "Good morning\n",
            " Good morning\n",
            " Good morning\n",
            " Good morning\n",
            " Good morning\n",
            " Good morning\n",
            " Good morning\n",
            " Good morning\n",
            " Good morning\n",
            " Good morning\n",
            " \n"
          ]
        }
      ]
    },
    {
      "cell_type": "code",
      "source": [
        "print(\"I am Prajwal k , i live in Hebbal , i completed my puc in Majalatti\")"
      ],
      "metadata": {
        "colab": {
          "base_uri": "https://localhost:8080/"
        },
        "id": "pQaTKH_TRrEu",
        "outputId": "8b75edb1-cb62-410c-cf0c-1301400504a9"
      },
      "execution_count": 33,
      "outputs": [
        {
          "output_type": "stream",
          "name": "stdout",
          "text": [
            "I am Prajwal k , i live in Hebbal , i completed my puc in Majalatti\n"
          ]
        }
      ]
    },
    {
      "cell_type": "code",
      "source": [
        "name = \"prajwal\"\n",
        "print(name)"
      ],
      "metadata": {
        "colab": {
          "base_uri": "https://localhost:8080/"
        },
        "id": "MbCWCWAJNeEV",
        "outputId": "37aed0bc-5def-4a5e-9cd7-7e46c9b31da4"
      },
      "execution_count": 24,
      "outputs": [
        {
          "output_type": "stream",
          "name": "stdout",
          "text": [
            "prajwal\n"
          ]
        }
      ]
    },
    {
      "cell_type": "code",
      "source": [
        "print(\"Kannada     29\")\n",
        "print(\"English     17\")\n",
        "print(\"Account     13\")\n",
        "print(\"DBMS        14\")\n",
        "print(\"CP          25\")\n",
        "print(\"IC          17\")"
      ],
      "metadata": {
        "colab": {
          "base_uri": "https://localhost:8080/"
        },
        "id": "vL2PMjxGPzoV",
        "outputId": "d2ad00c3-1a08-442f-ad94-5f803604909c"
      },
      "execution_count": 30,
      "outputs": [
        {
          "output_type": "stream",
          "name": "stdout",
          "text": [
            "Kannada     29\n",
            "English     17\n",
            "Account     13\n",
            "DBMS        14\n",
            "CP          25\n",
            "IC          17\n"
          ]
        }
      ]
    },
    {
      "cell_type": "code",
      "source": [
        "_N_A_M_E =\"Computer\"\n",
        "print(_N_A_M_E)"
      ],
      "metadata": {
        "colab": {
          "base_uri": "https://localhost:8080/"
        },
        "id": "enL5CqeAVrv2",
        "outputId": "ea46ce02-8944-4780-a674-c47d1d8e8822"
      },
      "execution_count": 34,
      "outputs": [
        {
          "output_type": "stream",
          "name": "stdout",
          "text": [
            "Computer\n"
          ]
        }
      ]
    },
    {
      "cell_type": "code",
      "source": [
        "Age = 25\n",
        "age = 25\n",
        "print(Age,age)"
      ],
      "metadata": {
        "colab": {
          "base_uri": "https://localhost:8080/"
        },
        "id": "ouUxwCofWG4v",
        "outputId": "46671d62-787a-4cee-e42f-808c2761b174"
      },
      "execution_count": 38,
      "outputs": [
        {
          "output_type": "stream",
          "name": "stdout",
          "text": [
            "25 25\n"
          ]
        }
      ]
    },
    {
      "cell_type": "code",
      "source": [
        "x =10\n",
        "x =15\n",
        "print(x,x)"
      ],
      "metadata": {
        "colab": {
          "base_uri": "https://localhost:8080/"
        },
        "id": "c9ylMFaLWU3l",
        "outputId": "23658c89-173a-4743-a743-041680f1f749"
      },
      "execution_count": 36,
      "outputs": [
        {
          "output_type": "stream",
          "name": "stdout",
          "text": [
            "15 15\n"
          ]
        }
      ]
    },
    {
      "cell_type": "code",
      "source": [
        "y = 3.24\n",
        "print(y)"
      ],
      "metadata": {
        "colab": {
          "base_uri": "https://localhost:8080/"
        },
        "id": "fw-9ZyxpWj1O",
        "outputId": "3c609e40-7531-438e-a2d9-0c8c4fe009c9"
      },
      "execution_count": 39,
      "outputs": [
        {
          "output_type": "stream",
          "name": "stdout",
          "text": [
            "3.24\n"
          ]
        }
      ]
    },
    {
      "cell_type": "code",
      "source": [
        "yes = True\n",
        "print(yes)"
      ],
      "metadata": {
        "colab": {
          "base_uri": "https://localhost:8080/"
        },
        "id": "W90PQyGxW49V",
        "outputId": "c1ada181-dbef-406f-e323-2dced4e3dc7f"
      },
      "execution_count": 40,
      "outputs": [
        {
          "output_type": "stream",
          "name": "stdout",
          "text": [
            "True\n"
          ]
        }
      ]
    },
    {
      "cell_type": "code",
      "source": [
        "NA_12_ME = \"Chikodi\"\n",
        "print(NA_12_ME)"
      ],
      "metadata": {
        "colab": {
          "base_uri": "https://localhost:8080/"
        },
        "id": "RD2YcHrFXFLl",
        "outputId": "45195361-cba3-4344-9040-6fa63235f8d1"
      },
      "execution_count": 41,
      "outputs": [
        {
          "output_type": "stream",
          "name": "stdout",
          "text": [
            "Chikodi\n"
          ]
        }
      ]
    },
    {
      "cell_type": "code",
      "source": [
        "name = \"College\"\n",
        "per = 67.34\n",
        "print(name,per)"
      ],
      "metadata": {
        "colab": {
          "base_uri": "https://localhost:8080/"
        },
        "id": "cgPKlQbnX5N2",
        "outputId": "b2687a07-0118-4074-8d60-c5abf79def74"
      },
      "execution_count": 43,
      "outputs": [
        {
          "output_type": "stream",
          "name": "stdout",
          "text": [
            "College 67.34\n"
          ]
        }
      ]
    },
    {
      "cell_type": "code",
      "source": [
        "College = \"BK college\"\n",
        "Name = \"prajwal\"\n",
        "print(\"My name is\", Name,\"I am studying in\",College)"
      ],
      "metadata": {
        "colab": {
          "base_uri": "https://localhost:8080/"
        },
        "id": "jkuHhGzWbeqU",
        "outputId": "f354c6db-b9e7-46ea-dc89-0cc9cbc60360"
      },
      "execution_count": 47,
      "outputs": [
        {
          "output_type": "stream",
          "name": "stdout",
          "text": [
            "My name is prajwal I am studying in BK college\n"
          ]
        }
      ]
    },
    {
      "cell_type": "code",
      "source": [
        "Year = \"2020\"\n",
        "Persentage = \"85%\"\n",
        "Name = \"Prajwal\"\n",
        "print(\"my name is\",Name,\"i completed my puc in the year of\",Year,\",and i got\",Persentage )"
      ],
      "metadata": {
        "colab": {
          "base_uri": "https://localhost:8080/"
        },
        "id": "PCncXvMccYfX",
        "outputId": "005b20b2-880c-4e09-ab0c-b70875be0afc"
      },
      "execution_count": 51,
      "outputs": [
        {
          "output_type": "stream",
          "name": "stdout",
          "text": [
            "my name is Prajwal i completed my puc in the year of 2020 ,and i got 85%\n"
          ]
        }
      ]
    },
    {
      "cell_type": "code",
      "source": [
        "  Text = \"Good evening\"\n",
        "  Address = \"I am from Chikodi\"\n",
        "  print(\"Hello\",Text,\", How are you,i am fine,where are you from,\",Address,\", so nice\")"
      ],
      "metadata": {
        "colab": {
          "base_uri": "https://localhost:8080/"
        },
        "id": "L5-tqg-yfc8W",
        "outputId": "6f0dd62e-7fff-4416-d1b5-867f52019f8c"
      },
      "execution_count": 53,
      "outputs": [
        {
          "output_type": "stream",
          "name": "stdout",
          "text": [
            "Hello Good evening , How are you,i am fine,where are you from, I am from Chikodi , so nice\n"
          ]
        }
      ]
    }
  ]
}