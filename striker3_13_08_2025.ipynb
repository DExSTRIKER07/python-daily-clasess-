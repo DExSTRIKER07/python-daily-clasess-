{
  "nbformat": 4,
  "nbformat_minor": 0,
  "metadata": {
    "colab": {
      "provenance": []
    },
    "kernelspec": {
      "name": "python3",
      "display_name": "Python 3"
    },
    "language_info": {
      "name": "python"
    }
  },
  "cells": [
    {
      "cell_type": "code",
      "execution_count": null,
      "metadata": {
        "colab": {
          "base_uri": "https://localhost:8080/"
        },
        "id": "xW-LNxScKlyk",
        "outputId": "eaff2553-71cc-4ba2-8274-0731053d2c14"
      },
      "outputs": [
        {
          "output_type": "stream",
          "name": "stdout",
          "text": [
            "Good Morning 18\n"
          ]
        }
      ],
      "source": [
        "a, b , c = \"Good\", \"Morning\", 18\n",
        "print(a, b, c)"
      ]
    },
    {
      "cell_type": "code",
      "source": [
        "Name, College, Degree, Roll_no = \"Sandesh\", \"BK\", \"BCA\", 101\n",
        "print(\"Hi, Good morning, i am \", Name, \", i am studying\", Degree,\"in\", College,\"College at chikodi\",\" my roll number is\",Roll_no  )"
      ],
      "metadata": {
        "colab": {
          "base_uri": "https://localhost:8080/"
        },
        "id": "7oimqoexLlO4",
        "outputId": "2ddbc423-971d-4cc4-8ae5-0a9b4d79dd18"
      },
      "execution_count": null,
      "outputs": [
        {
          "output_type": "stream",
          "name": "stdout",
          "text": [
            "Hi, Good morning, i am  Sandesh , i am studying BCA in BK College at chikodi  my roll number is 101\n"
          ]
        }
      ]
    },
    {
      "cell_type": "code",
      "source": [
        "x = y = z = 1002\n",
        "print(x, y ,z)"
      ],
      "metadata": {
        "colab": {
          "base_uri": "https://localhost:8080/"
        },
        "id": "n-xze-9FQBCa",
        "outputId": "f0ce8b0d-6470-4188-cdf4-8bc3a767836f"
      },
      "execution_count": null,
      "outputs": [
        {
          "output_type": "stream",
          "name": "stdout",
          "text": [
            "1002 1002 1002\n"
          ]
        }
      ]
    },
    {
      "cell_type": "code",
      "source": [
        "A = B, C = \"College\", 25\n",
        "print(B, C, A)"
      ],
      "metadata": {
        "colab": {
          "base_uri": "https://localhost:8080/"
        },
        "id": "3v34rBBJQjbR",
        "outputId": "8fabb95a-61b9-40c9-a3b6-536ea583d500"
      },
      "execution_count": null,
      "outputs": [
        {
          "output_type": "stream",
          "name": "stdout",
          "text": [
            "College 25 ('College', 25)\n"
          ]
        }
      ]
    },
    {
      "cell_type": "code",
      "source": [
        "A = 10\n",
        "B = 20\n",
        "print(\"Addition of\",A, \"And\",B, \"is = \",A+B)"
      ],
      "metadata": {
        "colab": {
          "base_uri": "https://localhost:8080/"
        },
        "id": "5WyUvI2vQ_tp",
        "outputId": "008fc82b-c0f3-4c1d-caad-e0e97a960ac4"
      },
      "execution_count": null,
      "outputs": [
        {
          "output_type": "stream",
          "name": "stdout",
          "text": [
            "Addition of 10 And 20 is =  30\n"
          ]
        }
      ]
    },
    {
      "cell_type": "code",
      "source": [
        "A = 10\n",
        "print(type(A))"
      ],
      "metadata": {
        "colab": {
          "base_uri": "https://localhost:8080/"
        },
        "id": "2Xt6PwaoSR5K",
        "outputId": "3fa31ff9-67cb-44d4-b24c-c590e518c467"
      },
      "execution_count": null,
      "outputs": [
        {
          "output_type": "stream",
          "name": "stdout",
          "text": [
            "<class 'int'>\n"
          ]
        }
      ]
    },
    {
      "cell_type": "code",
      "source": [
        "X = 35\n",
        "print(type(X))"
      ],
      "metadata": {
        "colab": {
          "base_uri": "https://localhost:8080/"
        },
        "id": "bBOrbQPiW0LD",
        "outputId": "06396a2b-dfc2-4c6d-a3ed-c0b3b807dcf0"
      },
      "execution_count": null,
      "outputs": [
        {
          "output_type": "stream",
          "name": "stdout",
          "text": [
            "<class 'int'>\n"
          ]
        }
      ]
    },
    {
      "cell_type": "code",
      "source": [
        "College = -100\n",
        "print(type(College))"
      ],
      "metadata": {
        "colab": {
          "base_uri": "https://localhost:8080/"
        },
        "id": "ItSPdNsNXK_8",
        "outputId": "1e3733fb-dea0-4a2a-92c7-311b62bf17d3"
      },
      "execution_count": null,
      "outputs": [
        {
          "output_type": "stream",
          "name": "stdout",
          "text": [
            "<class 'int'>\n"
          ]
        }
      ]
    },
    {
      "cell_type": "code",
      "source": [
        "A = 3.33\n",
        "print(type(A))"
      ],
      "metadata": {
        "colab": {
          "base_uri": "https://localhost:8080/"
        },
        "id": "f4tqfx-1Yj5b",
        "outputId": "33f316a6-e1a1-40ba-baf3-f50b89bcf745"
      },
      "execution_count": null,
      "outputs": [
        {
          "output_type": "stream",
          "name": "stdout",
          "text": [
            "<class 'float'>\n"
          ]
        }
      ]
    },
    {
      "cell_type": "code",
      "source": [
        "Number = -100.33\n",
        "print(type(Number))"
      ],
      "metadata": {
        "colab": {
          "base_uri": "https://localhost:8080/"
        },
        "id": "67VWlnzIZlkc",
        "outputId": "7625f61f-63c5-4a69-df7d-af858150fdee"
      },
      "execution_count": null,
      "outputs": [
        {
          "output_type": "stream",
          "name": "stdout",
          "text": [
            "<class 'float'>\n"
          ]
        }
      ]
    },
    {
      "cell_type": "code",
      "source": [
        "yes = True\n",
        "print(type(yes))"
      ],
      "metadata": {
        "colab": {
          "base_uri": "https://localhost:8080/"
        },
        "id": "EYTdlOyHaOZk",
        "outputId": "77e544dd-289e-45de-cc73-280ad2997aa0"
      },
      "execution_count": null,
      "outputs": [
        {
          "output_type": "stream",
          "name": "stdout",
          "text": [
            "<class 'bool'>\n"
          ]
        }
      ]
    },
    {
      "cell_type": "code",
      "source": [
        "yes = 18\n",
        "print(type(yes))"
      ],
      "metadata": {
        "colab": {
          "base_uri": "https://localhost:8080/"
        },
        "id": "X208MZLBagU8",
        "outputId": "7d209e87-ca5c-4766-e4c2-da17982ea6d6"
      },
      "execution_count": null,
      "outputs": [
        {
          "output_type": "stream",
          "name": "stdout",
          "text": [
            "<class 'int'>\n"
          ]
        }
      ]
    },
    {
      "cell_type": "code",
      "source": [
        "yes = \"False\"\n",
        "print(type(yes))"
      ],
      "metadata": {
        "colab": {
          "base_uri": "https://localhost:8080/"
        },
        "id": "cf9S6wYobBfd",
        "outputId": "bcaba9dd-0db5-44bd-e1e2-a41aa8e553f0"
      },
      "execution_count": null,
      "outputs": [
        {
          "output_type": "stream",
          "name": "stdout",
          "text": [
            "<class 'str'>\n"
          ]
        }
      ]
    },
    {
      "cell_type": "code",
      "source": [
        "A = \"111\"\n",
        "print(type(A))"
      ],
      "metadata": {
        "colab": {
          "base_uri": "https://localhost:8080/"
        },
        "id": "tGVTeufsbtE9",
        "outputId": "d7db2d36-81d3-4d2e-cd1d-06ad181b50fb"
      },
      "execution_count": null,
      "outputs": [
        {
          "output_type": "stream",
          "name": "stdout",
          "text": [
            "<class 'str'>\n"
          ]
        }
      ]
    },
    {
      "cell_type": "code",
      "source": [
        "Value = 25.3\n",
        "print(type(Value))"
      ],
      "metadata": {
        "colab": {
          "base_uri": "https://localhost:8080/"
        },
        "id": "54pDfOFPb3Gt",
        "outputId": "6c32cc2c-ed7b-45ea-fb98-f120cde2d65e"
      },
      "execution_count": null,
      "outputs": [
        {
          "output_type": "stream",
          "name": "stdout",
          "text": [
            "<class 'float'>\n"
          ]
        }
      ]
    },
    {
      "cell_type": "code",
      "source": [
        "Section = \"C\"\n",
        "print(type(Section))"
      ],
      "metadata": {
        "colab": {
          "base_uri": "https://localhost:8080/"
        },
        "id": "-5BTAY7NcBu0",
        "outputId": "0b19ae08-9bca-4227-ead6-1714b3a82497"
      },
      "execution_count": null,
      "outputs": [
        {
          "output_type": "stream",
          "name": "stdout",
          "text": [
            "<class 'str'>\n"
          ]
        }
      ]
    },
    {
      "cell_type": "code",
      "source": [
        "program = 'program'\n",
        "print(type(program))"
      ],
      "metadata": {
        "colab": {
          "base_uri": "https://localhost:8080/"
        },
        "id": "PDUU19t-cXCM",
        "outputId": "0b915830-36c8-45ef-c9ee-5866046c09d7"
      },
      "execution_count": null,
      "outputs": [
        {
          "output_type": "stream",
          "name": "stdout",
          "text": [
            "<class 'str'>\n"
          ]
        }
      ]
    },
    {
      "cell_type": "code",
      "source": [
        "String = \"python programming language\"\n",
        "print(String)\n",
        "print(type(String))"
      ],
      "metadata": {
        "colab": {
          "base_uri": "https://localhost:8080/"
        },
        "id": "KNA2yBSrdTN_",
        "outputId": "690aec75-65b0-4ab1-9d32-767e41d36124"
      },
      "execution_count": null,
      "outputs": [
        {
          "output_type": "stream",
          "name": "stdout",
          "text": [
            "python programming language\n",
            "<class 'str'>\n"
          ]
        }
      ]
    },
    {
      "cell_type": "code",
      "source": [
        "first = \"BK\"\n",
        "second = \"College\"\n",
        "print(((first +\" \"+ second)+\"\\n\")*5)"
      ],
      "metadata": {
        "colab": {
          "base_uri": "https://localhost:8080/"
        },
        "id": "Rj0awn4xfsrX",
        "outputId": "ffdc6d2d-bf36-479a-852f-7e6198ea5d61"
      },
      "execution_count": null,
      "outputs": [
        {
          "output_type": "stream",
          "name": "stdout",
          "text": [
            "BK College\n",
            "BK College\n",
            "BK College\n",
            "BK College\n",
            "BK College\n",
            "\n"
          ]
        }
      ]
    },
    {
      "cell_type": "code",
      "source": [
        "A =\"BK CLG\"\n",
        "print(A[3])"
      ],
      "metadata": {
        "colab": {
          "base_uri": "https://localhost:8080/"
        },
        "id": "OVjv1vSGgdHP",
        "outputId": "abb22f03-18db-4fe8-cf7c-eed691cc46c0"
      },
      "execution_count": null,
      "outputs": [
        {
          "output_type": "stream",
          "name": "stdout",
          "text": [
            "C\n"
          ]
        }
      ]
    },
    {
      "cell_type": "code",
      "source": [
        "S = \"abcdefgh\"\n",
        "print(S[-4])"
      ],
      "metadata": {
        "colab": {
          "base_uri": "https://localhost:8080/"
        },
        "id": "yOTeoD65mCpX",
        "outputId": "bf2d5d32-4247-480a-b875-24329108766a"
      },
      "execution_count": null,
      "outputs": [
        {
          "output_type": "stream",
          "name": "stdout",
          "text": [
            "e\n"
          ]
        }
      ]
    },
    {
      "cell_type": "code",
      "source": [
        "A = \"abcdefgh\"\n",
        "print(A[3:7])"
      ],
      "metadata": {
        "colab": {
          "base_uri": "https://localhost:8080/"
        },
        "id": "-S7bhqZZmPkf",
        "outputId": "fbcd18bd-0794-4068-ab88-15a27ae4c0e7"
      },
      "execution_count": null,
      "outputs": [
        {
          "output_type": "stream",
          "name": "stdout",
          "text": [
            "defg\n"
          ]
        }
      ]
    },
    {
      "cell_type": "code",
      "source": [
        "Name = \"python programming languages\"\n",
        "print(Name[5])\n",
        "print(Name[-2])\n",
        "print(Name[3:14])\n",
        "print(Name[20])\n",
        "print(Name [6:])\n",
        "print(Name[:-1])\n",
        "print(Name[-22:-4])\n",
        "print(Name[::1])\n",
        "print(Name[::2])\n",
        "print(Name[::-1])\n",
        "print(Name[::-3])\n",
        "print(Name[::3])"
      ],
      "metadata": {
        "colab": {
          "base_uri": "https://localhost:8080/"
        },
        "id": "tA6wLvLvlwFo",
        "outputId": "b68c890e-d4dc-44cf-b0d0-d002ea8dc1ab"
      },
      "execution_count": null,
      "outputs": [
        {
          "output_type": "stream",
          "name": "stdout",
          "text": [
            "n\n",
            "e\n",
            "hon program\n",
            "a\n",
            " programming languages\n",
            "python programming language\n",
            " programming langu\n",
            "python programming languages\n",
            "pto rgamn agae\n",
            "segaugnal gnimmargorp nohtyp\n",
            "san iao hp\n",
            "ph oai nas\n"
          ]
        }
      ]
    },
    {
      "cell_type": "code",
      "source": [
        "details = [101]\n",
        "print(details)\n",
        "print(type(details))\n",
        "details.append(85.12)\n",
        "print(details)\n",
        "details.append(True)\n",
        "print(details)\n",
        "print(len(details))\n",
        "print(details.pop())\n",
        "print(details)\n",
        "details.append(\"Sandesh\")\n",
        "print(details)\n",
        "details.append(-99)\n",
        "print(details)\n",
        "print(len(details))\n",
        "print(details[2])\n",
        "print(details[-1])"
      ],
      "metadata": {
        "colab": {
          "base_uri": "https://localhost:8080/"
        },
        "id": "lHLGbPRGvKPR",
        "outputId": "ac83af0b-cb5b-4510-fc85-6d00280b8c96"
      },
      "execution_count": null,
      "outputs": [
        {
          "output_type": "stream",
          "name": "stdout",
          "text": [
            "[101]\n",
            "<class 'list'>\n",
            "[101, 85.12]\n",
            "[101, 85.12, True]\n",
            "3\n",
            "True\n",
            "[101, 85.12]\n",
            "[101, 85.12, 'Sandesh']\n",
            "[101, 85.12, 'Sandesh', -99]\n",
            "4\n",
            "Sandesh\n",
            "-99\n"
          ]
        }
      ]
    },
    {
      "cell_type": "code",
      "source": [
        "number = [4, 2, 7, 1, 8, 5]\n",
        "print(number)\n",
        "number.sort()\n",
        "print(number)"
      ],
      "metadata": {
        "id": "NIHWAwSFRqAJ",
        "colab": {
          "base_uri": "https://localhost:8080/"
        },
        "outputId": "5f9f8364-4dcb-4dd0-a4f0-e93b6f2f79c5"
      },
      "execution_count": 17,
      "outputs": [
        {
          "output_type": "stream",
          "name": "stdout",
          "text": [
            "[4, 2, 7, 1, 8, 5]\n",
            "[1, 2, 4, 5, 7, 8]\n"
          ]
        }
      ]
    },
    {
      "cell_type": "code",
      "source": [],
      "metadata": {
        "id": "cnk0T5SeiQmk"
      },
      "execution_count": null,
      "outputs": []
    }
  ]
}